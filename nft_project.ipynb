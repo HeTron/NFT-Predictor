{
 "cells": [
  {
   "cell_type": "code",
   "execution_count": 7,
   "id": "initial_id",
   "metadata": {
    "collapsed": true,
    "ExecuteTime": {
     "end_time": "2024-02-27T01:37:02.180580Z",
     "start_time": "2024-02-27T01:37:02.006928Z"
    }
   },
   "outputs": [],
   "source": [
    "import requests\n",
    "import pandas as pd\n",
    "import numpy as np\n",
    "\n",
    "\n",
    "# url = \"https://api.opensea.io/api/v2/collections/mutant-ape-yacht-club/stats\"\n",
    "# \n",
    "# headers = {\n",
    "#     \"accept\": \"application/json\",\n",
    "#     \"x-api-key\": \"29b6c9b1120748878ac7f50821ec4d0b\"\n",
    "# }\n",
    "# \n",
    "# response = requests.get(url, headers=headers)\n",
    "\n",
    "url = \"https://api.opensea.io/api/v2/collections/mutant-ape-yacht-club\"\n",
    "\n",
    "headers = {\n",
    "    \"accept\": \"application/json\",\n",
    "    \"x-api-key\": \"29b6c9b1120748878ac7f50821ec4d0b\"\n",
    "}\n",
    "\n",
    "response = requests.get(url, headers=headers)\n",
    "\n",
    "\n",
    "response_data = response.json()\n",
    "\n",
    "import pandas as pd\n",
    "\n",
    "# Assuming response_data is your JSON data\n",
    "collection_data = {\n",
    "    \"collection\": response_data[\"collection\"],\n",
    "    \"name\": response_data[\"name\"],\n",
    "    \"description\": response_data[\"description\"],\n",
    "    \"image_url\": response_data[\"image_url\"],\n",
    "    \"banner_image_url\": response_data[\"banner_image_url\"],\n",
    "    \"owner\": response_data[\"owner\"],\n",
    "    \"category\": response_data[\"category\"],\n",
    "    \"is_disabled\": response_data[\"is_disabled\"],\n",
    "    \"is_nsfw\": response_data[\"is_nsfw\"],\n",
    "    \"trait_offers_enabled\": response_data[\"trait_offers_enabled\"],\n",
    "    \"collection_offers_enabled\": response_data[\"collection_offers_enabled\"],\n",
    "    \"opensea_url\": response_data[\"opensea_url\"],\n",
    "    \"project_url\": response_data[\"project_url\"],\n",
    "    \"wiki_url\": response_data[\"wiki_url\"],\n",
    "    \"discord_url\": response_data[\"discord_url\"],\n",
    "    \"telegram_url\": response_data[\"telegram_url\"],\n",
    "    \"twitter_username\": response_data[\"twitter_username\"],\n",
    "    \"instagram_username\": response_data[\"instagram_username\"],\n",
    "    \"total_supply\": response_data[\"total_supply\"],\n",
    "    \"created_date\": response_data[\"created_date\"]\n",
    "}\n",
    "\n",
    "df_collection = pd.DataFrame([collection_data])\n"
   ]
  },
  {
   "cell_type": "code",
   "outputs": [],
   "source": [
    "df_contracts = pd.DataFrame(response_data[\"contracts\"])\n",
    "df_fees = pd.DataFrame(response_data[\"fees\"])\n",
    "df_payment_tokens = pd.DataFrame(response_data[\"payment_tokens\"])\n",
    "df_rarity = pd.DataFrame([response_data[\"rarity\"]])\n"
   ],
   "metadata": {
    "collapsed": false,
    "ExecuteTime": {
     "end_time": "2024-02-27T01:37:04.010236Z",
     "start_time": "2024-02-27T01:37:04.006807Z"
    }
   },
   "id": "206bd708bdda6a45",
   "execution_count": 8
  },
  {
   "cell_type": "code",
   "outputs": [
    {
     "name": "stdout",
     "output_type": "stream",
     "text": [
      "              collection                   name  \\\n",
      "0  mutant-ape-yacht-club  Mutant Ape Yacht Club   \n",
      "\n",
      "                                         description  \\\n",
      "0  The MUTANT APE YACHT CLUB is a collection of u...   \n",
      "\n",
      "                                           image_url  \\\n",
      "0  https://i.seadn.io/gae/lHexKRMpw-aoSyB1WdFBff5...   \n",
      "\n",
      "                                    banner_image_url  \\\n",
      "0  https://i.seadn.io/gae/5c-HcdLMinTg3LvEwXYZYC-...   \n",
      "\n",
      "                                        owner category  is_disabled  is_nsfw  \\\n",
      "0  0xcac7c29bac18f080b98a3076b4e165886f509251     pfps        False    False   \n",
      "\n",
      "   trait_offers_enabled  collection_offers_enabled  \\\n",
      "0                  True                       True   \n",
      "\n",
      "                                         opensea_url project_url wiki_url  \\\n",
      "0  https://opensea.io/collection/mutant-ape-yacht...                        \n",
      "\n",
      "  discord_url telegram_url twitter_username instagram_username  total_supply  \\\n",
      "0                                                                      19488   \n",
      "\n",
      "  created_date  \n",
      "0   2021-08-29  \n",
      "                                      address     chain\n",
      "0  0x60e4d786628fea6478f785a6d7e704777c86a7c6  ethereum\n",
      "   fee                                   recipient  required\n",
      "0  2.5  0x0000a26b00c1f0df003000390027140000faa719      True\n",
      "1  2.5  0xa858ddc0445d8131dac4d1de01f834ffcba52ef1     False\n",
      "  symbol                                     address     chain  \\\n",
      "0    ETH  0x0000000000000000000000000000000000000000  ethereum   \n",
      "1   WETH  0xc02aaa39b223fe8d0a0e5c4f27ead9083c756cc2  ethereum   \n",
      "2   USDC  0xa0b86991c6218b36c1d19d4a2e9eb0ce3606eb48  ethereum   \n",
      "3    APE  0x4d224452801aced8b2f0aebe155379bb5d594381  ethereum   \n",
      "\n",
      "                                 image           name  decimals  \\\n",
      "0   https://raw.seadn.io/files/ETH.svg          Ether        18   \n",
      "1  https://raw.seadn.io/files/WETH.svg  Wrapped Ether        18   \n",
      "2  https://raw.seadn.io/files/USDC.svg       USD Coin         6   \n",
      "3   https://raw.seadn.io/files/APE.svg        ApeCoin        18   \n",
      "\n",
      "           eth_price                usd_price  \n",
      "0  1.000000000000000  3183.570000000000164000  \n",
      "1  1.000000000000000  3171.530000000000200000  \n",
      "2  0.000314310000000     1.001000000000000000  \n",
      "3  0.000619380000000     1.970000000000000000  \n",
      "  strategy_id strategy_version               calculated_at  max_rank  \\\n",
      "0  openrarity          0.4.3b0  2022-09-21T08:03:09.853307     19425   \n",
      "\n",
      "   tokens_scored  \n",
      "0          19425  \n"
     ]
    }
   ],
   "source": [
    "print(df_collection)\n",
    "print(df_contracts)\n",
    "print(df_fees)\n",
    "print(df_payment_tokens)\n",
    "print(df_rarity)"
   ],
   "metadata": {
    "collapsed": false,
    "ExecuteTime": {
     "end_time": "2024-02-27T01:42:42.008495Z",
     "start_time": "2024-02-27T01:42:42.003681Z"
    }
   },
   "id": "b9a2bd40f1197252",
   "execution_count": 11
  },
  {
   "cell_type": "code",
   "outputs": [],
   "source": [
    "df_collection.to_csv('collection_info.csv', index=False)\n",
    "df_contracts.to_csv('collection_contracts.csv', index=False)\n",
    "df_fees.to_csv('collection_fees.csv', index=False)\n",
    "df_payment_tokens.to_csv('collection_payment_tokens.csv', index=False)\n",
    "df_rarity.to_csv('collection_rarity.csv', index=False)\n"
   ],
   "metadata": {
    "collapsed": false,
    "ExecuteTime": {
     "end_time": "2024-02-27T01:44:29.643108Z",
     "start_time": "2024-02-27T01:44:29.631857Z"
    }
   },
   "id": "a06d331a75eb2126",
   "execution_count": 12
  },
  {
   "cell_type": "code",
   "outputs": [],
   "source": [],
   "metadata": {
    "collapsed": false
   },
   "id": "e0912a219284bd87"
  }
 ],
 "metadata": {
  "kernelspec": {
   "display_name": "Python 3",
   "language": "python",
   "name": "python3"
  },
  "language_info": {
   "codemirror_mode": {
    "name": "ipython",
    "version": 2
   },
   "file_extension": ".py",
   "mimetype": "text/x-python",
   "name": "python",
   "nbconvert_exporter": "python",
   "pygments_lexer": "ipython2",
   "version": "2.7.6"
  }
 },
 "nbformat": 4,
 "nbformat_minor": 5
}
