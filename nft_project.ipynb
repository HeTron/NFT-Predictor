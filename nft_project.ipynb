{
 "cells": [
  {
   "cell_type": "code",
   "outputs": [],
   "source": [
    "import requests\n",
    "import pandas as pd\n",
    "from dotenv import load_dotenv\n",
    "import os\n"
   ],
   "metadata": {
    "collapsed": false,
    "ExecuteTime": {
     "end_time": "2024-02-29T01:47:00.177186Z",
     "start_time": "2024-02-29T01:47:00.150717Z"
    }
   },
   "id": "4c7922c2144ccea",
   "execution_count": 131
  },
  {
   "cell_type": "code",
   "outputs": [],
   "source": [
    "load_dotenv()\n",
    "OPENSEA_API = os.getenv('OPENSEA_API_KEY')"
   ],
   "metadata": {
    "collapsed": false,
    "ExecuteTime": {
     "end_time": "2024-02-29T01:47:00.194162Z",
     "start_time": "2024-02-29T01:47:00.154987Z"
    }
   },
   "id": "aa5284aa8f0e0fde",
   "execution_count": 132
  },
  {
   "cell_type": "code",
   "outputs": [],
   "source": [
    "# Function to fetch data from an API\n",
    "def fetch_api_data(url, headers=None):\n",
    "    response = requests.get(url, headers=headers)\n",
    "    if response.status_code == 200:\n",
    "        return response.json()\n",
    "    else:\n",
    "        print(f\"Failed to fetch data from {url}\")\n",
    "        return {}\n"
   ],
   "metadata": {
    "collapsed": false,
    "ExecuteTime": {
     "end_time": "2024-02-29T01:47:00.194578Z",
     "start_time": "2024-02-29T01:47:00.160593Z"
    }
   },
   "id": "a5340f5540ba0372",
   "execution_count": 133
  },
  {
   "cell_type": "code",
   "outputs": [],
   "source": [
    "# USER CHOOSES COLLECTION\n",
    "collection_slug = input(\"Enter the collection: \")\n",
    "url = f\"https://api.opensea.io/api/v2/events/collection/{collection_slug}\"\n",
    "\n",
    "# API's\n",
    "url1 = f\"https://api.opensea.io/api/v2/collections/{collection_slug}/stats\"\n",
    "url2 = f\"https://api.opensea.io/api/v2/collections/{collection_slug}\"\n",
    "url3 = f\"https://api.opensea.io/api/v2/events/collection/{collection_slug}\"\n",
    "\n",
    "headers1 = {\"accept\": \"application/json\", \"x-api-key\": OPENSEA_API}\n",
    "headers2 = {\"accept\": \"application/json\", \"x-api-key\": OPENSEA_API}\n",
    "headers3 = {\"accept\": \"application/json\", \"x-api-key\": OPENSEA_API}\n",
    "\n",
    "data1 = fetch_api_data(url1, headers1)\n",
    "data2 = fetch_api_data(url2, headers2)\n",
    "data3 = fetch_api_data(url3, headers3)"
   ],
   "metadata": {
    "collapsed": false,
    "ExecuteTime": {
     "end_time": "2024-02-29T01:47:20.696637Z",
     "start_time": "2024-02-29T01:47:00.163929Z"
    }
   },
   "id": "d0b3df736497d799",
   "execution_count": 134
  },
  {
   "cell_type": "code",
   "outputs": [],
   "source": [
    "# Process and convert data from the first API\n",
    "df1_total = pd.DataFrame([data1['total']])\n",
    "df1_intervals = pd.DataFrame(data1['intervals'])"
   ],
   "metadata": {
    "collapsed": false,
    "ExecuteTime": {
     "end_time": "2024-02-29T01:47:20.707911Z",
     "start_time": "2024-02-29T01:47:20.702966Z"
    }
   },
   "id": "b178ed8f1b2586a7",
   "execution_count": 135
  },
  {
   "cell_type": "code",
   "outputs": [],
   "source": [
    "# Process and convert data from the second API\n",
    "collection_fields = ['collection', 'name', 'description', 'image_url', 'banner_image_url', 'owner', 'category', 'is_disabled', 'is_nsfw', 'trait_offers_enabled', 'collection_offers_enabled', 'opensea_url', 'project_url', 'wiki_url', 'discord_url', 'telegram_url', 'twitter_username', 'instagram_username', 'total_supply', 'created_date']\n",
    "df2_collection = pd.DataFrame([{field: data2.get(field, '') for field in collection_fields}])\n",
    "df2_contracts = pd.DataFrame(data2.get('contracts', []))\n",
    "df2_fees = pd.DataFrame(data2.get('fees', []))\n",
    "df2_payment_tokens = pd.DataFrame(data2.get('payment_tokens', []))\n",
    "df2_rarity = pd.DataFrame([data2.get('rarity', {})])"
   ],
   "metadata": {
    "collapsed": false,
    "ExecuteTime": {
     "end_time": "2024-02-29T01:47:20.716707Z",
     "start_time": "2024-02-29T01:47:20.712480Z"
    }
   },
   "id": "122a515056ec23eb",
   "execution_count": 136
  },
  {
   "cell_type": "code",
   "outputs": [],
   "source": [
    "events_normalized = []\n",
    "for event in data3['asset_events']:\n",
    "    # Initialize event_data with event fields, excluding nft, asset, payment, criteria\n",
    "    event_data = {k: v for k, v in event.items() if k not in ['nft', 'asset', 'payment', 'criteria']}\n",
    "    \n",
    "    # Check and add nft data if present\n",
    "    if 'nft' in event and event['nft'] is not None:\n",
    "        nft_data = {'nft_' + k: v for k, v in event['nft'].items()}\n",
    "        event_data.update(nft_data)\n",
    "    \n",
    "    # Check and add asset data if present\n",
    "    elif 'asset' in event and event['asset'] is not None:\n",
    "        asset_data = {'asset_' + k: v for k, v in event['asset'].items()}\n",
    "        event_data.update(asset_data)\n",
    "    \n",
    "    # Check and include payment data if necessary and present\n",
    "    if 'payment' in event and event['payment'] is not None:\n",
    "        payment_data = {'payment_' + k: v for k, v in event['payment'].items()}\n",
    "        event_data.update(payment_data)\n",
    "    \n",
    "    events_normalized.append(event_data)\n",
    "\n",
    "df_events = pd.DataFrame(events_normalized)"
   ],
   "metadata": {
    "collapsed": false,
    "ExecuteTime": {
     "end_time": "2024-02-29T01:47:20.724076Z",
     "start_time": "2024-02-29T01:47:20.720218Z"
    }
   },
   "id": "dc3abe56197963bf",
   "execution_count": 137
  },
  {
   "cell_type": "code",
   "outputs": [],
   "source": [
    "# Export to CSV\n",
    "df1_total.to_csv('api1_total_stats.csv', index=False)\n",
    "df1_intervals.to_csv('api1_intervals_stats.csv', index=False)\n",
    "df2_collection.to_csv('api2_collection_info.csv', index=False)\n",
    "df2_contracts.to_csv('api2_collection_contracts.csv', index=False)\n",
    "df2_fees.to_csv('api2_collection_fees.csv', index=False)\n",
    "df2_payment_tokens.to_csv('api2_collection_payment_tokens.csv', index=False)\n",
    "df2_rarity.to_csv('api2_collection_rarity.csv', index=False)\n",
    "df_events.to_csv('api3_events.csv', index=False)\n"
   ],
   "metadata": {
    "collapsed": false,
    "ExecuteTime": {
     "end_time": "2024-02-29T01:47:20.731977Z",
     "start_time": "2024-02-29T01:47:20.724526Z"
    }
   },
   "id": "a06d331a75eb2126",
   "execution_count": 138
  },
  {
   "cell_type": "code",
   "outputs": [
    {
     "name": "stdout",
     "output_type": "stream",
     "text": [
      "  event_type                                         order_hash   order_type  \\\n",
      "0      order  0xee450499348f8ce7cb4b1830ebc7c89d6f246192c5b7...  trait_offer   \n",
      "1      order  0x5398b7f831b4e7ad13d2f1257d62f8e4ba89e34d43bd...   item_offer   \n",
      "2      order  0x348e61a5b003692e32329b448127025120609a215012...   item_offer   \n",
      "3      order  0xb8aa80258051148fdf13d608f50c2c570a06569f8fc2...   item_offer   \n",
      "4      order  0x878728288697297f99eed1d3ec65aa5d8527e0cc3385...   item_offer   \n",
      "\n",
      "      chain                            protocol_address  start_date  \\\n",
      "0  ethereum  0x00000000000000adc04c56bf30ac9d3c0aaf14dc  1709171238   \n",
      "1  ethereum  0x00000000000000adc04c56bf30ac9d3c0aaf14dc  1709171237   \n",
      "2  ethereum  0x00000000000000adc04c56bf30ac9d3c0aaf14dc  1709171237   \n",
      "3  ethereum  0x00000000000000adc04c56bf30ac9d3c0aaf14dc  1709171230   \n",
      "4  ethereum  0x00000000000000adc04c56bf30ac9d3c0aaf14dc  1709171230   \n",
      "\n",
      "   expiration_date  quantity                                       maker  \\\n",
      "0       1709171898         1  0xdf081666b112c0fac2def42b55a474baa07c7d35   \n",
      "1       1709173938         1  0x0f006581eb201aa7352c1b24cf1bf8a70aa2ae3d   \n",
      "2       1709173937         1  0x0f006581eb201aa7352c1b24cf1bf8a70aa2ae3d   \n",
      "3       1709172428         1  0x038b97d549bf4d3cfa4e116a7f6ed257249001c5   \n",
      "4       1709176027         1  0xda7b30b3a72dfe34581809de0a84e2cd29dcc793   \n",
      "\n",
      "  taker  ...                              asset_contract  \\\n",
      "0        ...                                         NaN   \n",
      "1        ...  0x49cf6f5d44e70224e2e23fdcdd2c053f30ada28b   \n",
      "2        ...  0x49cf6f5d44e70224e2e23fdcdd2c053f30ada28b   \n",
      "3        ...  0x49cf6f5d44e70224e2e23fdcdd2c053f30ada28b   \n",
      "4        ...  0x49cf6f5d44e70224e2e23fdcdd2c053f30ada28b   \n",
      "\n",
      "   asset_token_standard     asset_name  \\\n",
      "0                   NaN            NaN   \n",
      "1                erc721  CloneX #12739   \n",
      "2                erc721  CloneX #19868   \n",
      "3                erc721  CloneX #10275   \n",
      "4                erc721   CloneX #3326   \n",
      "\n",
      "                                   asset_description  \\\n",
      "0                                                NaN   \n",
      "1  🧬 CLONE X 🧬\\n\\n20,000 next-gen Avatars, by RTF...   \n",
      "2  🧬 CLONE X 🧬\\n\\n20,000 next-gen Avatars, by RTF...   \n",
      "3  🧬 CLONE X 🧬\\n\\n20,000 next-gen Avatars, by RTF...   \n",
      "4  🧬 CLONE X 🧬\\n\\n20,000 next-gen Avatars, by RTF...   \n",
      "\n",
      "                                    asset_image_url  \\\n",
      "0                                               NaN   \n",
      "1   https://clonex-assets.rtfkt.com/images/5161.png   \n",
      "2  https://clonex-assets.rtfkt.com/images/14664.png   \n",
      "3   https://clonex-assets.rtfkt.com/images/1708.png   \n",
      "4   https://clonex-assets.rtfkt.com/images/8874.png   \n",
      "\n",
      "                      asset_metadata_url  \\\n",
      "0                                    NaN   \n",
      "1   https://clonex-assets.rtfkt.com/5161   \n",
      "2  https://clonex-assets.rtfkt.com/14664   \n",
      "3   https://clonex-assets.rtfkt.com/1708   \n",
      "4   https://clonex-assets.rtfkt.com/8874   \n",
      "\n",
      "                                   asset_opensea_url  \\\n",
      "0                                                NaN   \n",
      "1  https://opensea.io/assets/ethereum/0x49cf6f5d4...   \n",
      "2  https://opensea.io/assets/ethereum/0x49cf6f5d4...   \n",
      "3  https://opensea.io/assets/ethereum/0x49cf6f5d4...   \n",
      "4  https://opensea.io/assets/ethereum/0x49cf6f5d4...   \n",
      "\n",
      "             asset_updated_at asset_is_disabled asset_is_nsfw  \n",
      "0                         NaN               NaN           NaN  \n",
      "1  2022-12-15T05:14:42.816864             False         False  \n",
      "2  2022-12-15T05:16:32.659266             False         False  \n",
      "3  2024-02-23T18:45:26.608084             False         False  \n",
      "4  2023-03-10T10:46:52.726116             False         False  \n",
      "\n",
      "[5 rows x 28 columns]\n"
     ]
    }
   ],
   "source": [
    "print(df_events.head())"
   ],
   "metadata": {
    "collapsed": false,
    "ExecuteTime": {
     "end_time": "2024-02-29T01:47:20.741628Z",
     "start_time": "2024-02-29T01:47:20.737373Z"
    }
   },
   "id": "e0912a219284bd87",
   "execution_count": 139
  },
  {
   "cell_type": "code",
   "outputs": [
    {
     "name": "stdout",
     "output_type": "stream",
     "text": [
      "          volume  sales  average_price  num_owners    market_cap  floor_price  \\\n",
      "0  418454.421694  68881       6.075034        9558  23795.219937        1.195   \n",
      "\n",
      "  floor_price_symbol  \n",
      "0                ETH  \n"
     ]
    }
   ],
   "source": [
    "print(df1_total.head())"
   ],
   "metadata": {
    "collapsed": false,
    "ExecuteTime": {
     "end_time": "2024-02-29T01:47:20.745252Z",
     "start_time": "2024-02-29T01:47:20.741530Z"
    }
   },
   "id": "b78a91f641159b25",
   "execution_count": 140
  },
  {
   "cell_type": "code",
   "outputs": [
    {
     "name": "stdout",
     "output_type": "stream",
     "text": [
      "     interval       volume  volume_diff  volume_change  sales  sales_diff  \\\n",
      "0     one_day    50.300299        -24.0      -0.311876     39   -0.380952   \n",
      "1   seven_day   635.643253        -67.0      -0.138518    522    0.000000   \n",
      "2  thirty_day  3173.367667       -520.0      -0.150553   2529    0.000000   \n",
      "\n",
      "   average_price  \n",
      "0       1.289751  \n",
      "1       1.217707  \n",
      "2       1.254791  \n"
     ]
    }
   ],
   "source": [
    "print(df1_intervals.head())"
   ],
   "metadata": {
    "collapsed": false,
    "ExecuteTime": {
     "end_time": "2024-02-29T01:47:20.792498Z",
     "start_time": "2024-02-29T01:47:20.746808Z"
    }
   },
   "id": "44b427d3a267e615",
   "execution_count": 141
  },
  {
   "cell_type": "code",
   "outputs": [
    {
     "name": "stdout",
     "output_type": "stream",
     "text": [
      "   fee                                   recipient  required\n",
      "0  2.5  0x0000a26b00c1f0df003000390027140000faa719      True\n",
      "1  5.0  0xe65b6865dbce299ae6a20efcc7543362540741d8     False\n"
     ]
    }
   ],
   "source": [
    "print(df2_fees)"
   ],
   "metadata": {
    "collapsed": false,
    "ExecuteTime": {
     "end_time": "2024-02-29T01:47:20.792826Z",
     "start_time": "2024-02-29T01:47:20.753606Z"
    }
   },
   "id": "f167464f8d9a093f",
   "execution_count": 142
  },
  {
   "cell_type": "code",
   "outputs": [
    {
     "name": "stdout",
     "output_type": "stream",
     "text": [
      "  strategy_id strategy_version               calculated_at  max_rank  \\\n",
      "0  openrarity          0.7.1b0  2022-11-15T03:32:42.716033     19422   \n",
      "\n",
      "   tokens_scored  \n",
      "0          19422  \n"
     ]
    }
   ],
   "source": [
    "print(df2_rarity)\n"
   ],
   "metadata": {
    "collapsed": false,
    "ExecuteTime": {
     "end_time": "2024-02-29T01:47:20.792899Z",
     "start_time": "2024-02-29T01:47:20.758029Z"
    }
   },
   "id": "e5d711d101917bb8",
   "execution_count": 143
  },
  {
   "cell_type": "code",
   "outputs": [
    {
     "name": "stdout",
     "output_type": "stream",
     "text": [
      "  symbol                                     address     chain  \\\n",
      "0    ETH  0x0000000000000000000000000000000000000000  ethereum   \n",
      "1   WETH  0xc02aaa39b223fe8d0a0e5c4f27ead9083c756cc2  ethereum   \n",
      "\n",
      "                                 image           name  decimals  \\\n",
      "0   https://raw.seadn.io/files/ETH.svg          Ether        18   \n",
      "1  https://raw.seadn.io/files/WETH.svg  Wrapped Ether        18   \n",
      "\n",
      "           eth_price                usd_price  \n",
      "0  1.000000000000000  3420.650000000000091000  \n",
      "1  1.000000000000000  3422.150000000000091000  \n"
     ]
    }
   ],
   "source": [
    "print(df2_payment_tokens)\n"
   ],
   "metadata": {
    "collapsed": false,
    "ExecuteTime": {
     "end_time": "2024-02-29T01:47:20.793185Z",
     "start_time": "2024-02-29T01:47:20.762656Z"
    }
   },
   "id": "43faf15a56def68c",
   "execution_count": 144
  },
  {
   "cell_type": "code",
   "outputs": [
    {
     "name": "stdout",
     "output_type": "stream",
     "text": [
      "  collection                          name  \\\n",
      "0     clonex  CLONE X - X TAKASHI MURAKAMI   \n",
      "\n",
      "                                         description  \\\n",
      "0  🧬 CLONE X 🧬\\r\\n\\r\\n20,000 next-gen Avatars, by...   \n",
      "\n",
      "                                           image_url  \\\n",
      "0  https://i.seadn.io/gae/XN0XuD8Uh3jyRWNtPTFeXJg...   \n",
      "\n",
      "                                    banner_image_url  \\\n",
      "0  https://i.seadn.io/s/raw/files/21d546f6ace1227...   \n",
      "\n",
      "                                        owner category  is_disabled  is_nsfw  \\\n",
      "0  0x12ea19217c65f36385bb030d00525c1034e2f0af     pfps        False    False   \n",
      "\n",
      "   trait_offers_enabled  collection_offers_enabled  \\\n",
      "0                  True                       True   \n",
      "\n",
      "                            opensea_url           project_url wiki_url  \\\n",
      "0  https://opensea.io/collection/clonex  http://www.rtfkt.com            \n",
      "\n",
      "                discord_url telegram_url twitter_username instagram_username  \\\n",
      "0  https://discord.gg/rtfkt                         RTFKT              rtfkt   \n",
      "\n",
      "   total_supply created_date  \n",
      "0         19541   2021-12-12  \n"
     ]
    }
   ],
   "source": [
    "print(df2_collection)\n"
   ],
   "metadata": {
    "collapsed": false,
    "ExecuteTime": {
     "end_time": "2024-02-29T01:47:20.793486Z",
     "start_time": "2024-02-29T01:47:20.767182Z"
    }
   },
   "id": "6704cd6a0caf2001",
   "execution_count": 145
  },
  {
   "cell_type": "code",
   "outputs": [
    {
     "name": "stdout",
     "output_type": "stream",
     "text": [
      "                                      address     chain\n",
      "0  0x49cf6f5d44e70224e2e23fdcdd2c053f30ada28b  ethereum\n"
     ]
    }
   ],
   "source": [
    "print(df2_contracts)\n"
   ],
   "metadata": {
    "collapsed": false,
    "ExecuteTime": {
     "end_time": "2024-02-29T01:47:20.819987Z",
     "start_time": "2024-02-29T01:47:20.771534Z"
    }
   },
   "id": "1916728e4adb0eba",
   "execution_count": 146
  },
  {
   "cell_type": "code",
   "outputs": [],
   "source": [],
   "metadata": {
    "collapsed": false,
    "ExecuteTime": {
     "end_time": "2024-02-29T01:47:20.820204Z",
     "start_time": "2024-02-29T01:47:20.774294Z"
    }
   },
   "id": "4ea762e9a7e5ba4a",
   "execution_count": 146
  }
 ],
 "metadata": {
  "kernelspec": {
   "display_name": "Python 3",
   "language": "python",
   "name": "python3"
  },
  "language_info": {
   "codemirror_mode": {
    "name": "ipython",
    "version": 2
   },
   "file_extension": ".py",
   "mimetype": "text/x-python",
   "name": "python",
   "nbconvert_exporter": "python",
   "pygments_lexer": "ipython2",
   "version": "2.7.6"
  }
 },
 "nbformat": 4,
 "nbformat_minor": 5
}
