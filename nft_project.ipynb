{
 "cells": [
  {
   "cell_type": "code",
   "outputs": [
    {
     "name": "stdout",
     "output_type": "stream",
     "text": [
      "Failed to fetch data from https://api.opensea.io/api/v2/collections/Mythicpunknft/stats\n",
      "Failed to fetch data from https://api.opensea.io/api/v2/collections/Mythicpunknft\n",
      "Failed to fetch data from https://api.opensea.io/api/v2/events/collection/Mythicpunknft\n"
     ]
    }
   ],
   "source": [
    "import requests\n",
    "import pandas as pd\n",
    "\n",
    "# Function to fetch data from an API\n",
    "def fetch_api_data(url, headers=None):\n",
    "    response = requests.get(url, headers=headers)\n",
    "    if response.status_code == 200:\n",
    "        return response.json()\n",
    "    else:\n",
    "        print(f\"Failed to fetch data from {url}\")\n",
    "        return {}\n",
    "\n",
    "# USER CHOOSES COLLECTION\n",
    "collection_slug = input(\"Enter the collection: \")\n",
    "url = f\"https://api.opensea.io/api/v2/events/collection/{collection_slug}\"\n",
    "\n",
    "# API's\n",
    "url1 = f\"https://api.opensea.io/api/v2/collections/{collection_slug}/stats\"\n",
    "url2 = f\"https://api.opensea.io/api/v2/collections/{collection_slug}\"\n",
    "url3 = f\"https://api.opensea.io/api/v2/events/collection/{collection_slug}\"\n",
    "\n",
    "headers1 = {\"accept\": \"application/json\", \"x-api-key\": \"29b6c9b1120748878ac7f50821ec4d0b\"}\n",
    "headers2 = {\"accept\": \"application/json\", \"x-api-key\": \"29b6c9b1120748878ac7f50821ec4d0b\"}\n",
    "headers3 = {\"accept\": \"application/json\", \"x-api-key\": \"29b6c9b1120748878ac7f50821ec4d0b\"}\n",
    "\n",
    "data1 = fetch_api_data(url1, headers1)\n",
    "data2 = fetch_api_data(url2, headers2)\n",
    "data3 = fetch_api_data(url3, headers3)"
   ],
   "metadata": {
    "collapsed": false,
    "ExecuteTime": {
     "end_time": "2024-02-28T17:40:48.108532Z",
     "start_time": "2024-02-28T17:40:37.143026Z"
    }
   },
   "id": "4c7922c2144ccea",
   "execution_count": 55
  },
  {
   "cell_type": "code",
   "outputs": [],
   "source": [
    "# Process and convert data from the first API\n",
    "df1_total = pd.DataFrame([data1['total']])\n",
    "df1_intervals = pd.DataFrame(data1['intervals'])"
   ],
   "metadata": {
    "collapsed": false,
    "ExecuteTime": {
     "end_time": "2024-02-28T17:39:03.150045Z",
     "start_time": "2024-02-28T17:39:03.142551Z"
    }
   },
   "id": "b178ed8f1b2586a7",
   "execution_count": 45
  },
  {
   "cell_type": "code",
   "outputs": [],
   "source": [
    "# Process and convert data from the second API\n",
    "collection_fields = ['collection', 'name', 'description', 'image_url', 'banner_image_url', 'owner', 'category', 'is_disabled', 'is_nsfw', 'trait_offers_enabled', 'collection_offers_enabled', 'opensea_url', 'project_url', 'wiki_url', 'discord_url', 'telegram_url', 'twitter_username', 'instagram_username', 'total_supply', 'created_date']\n",
    "df2_collection = pd.DataFrame([{field: data2.get(field, '') for field in collection_fields}])\n",
    "df2_contracts = pd.DataFrame(data2['contracts'])\n",
    "df2_fees = pd.DataFrame(data2['fees'])\n",
    "df2_payment_tokens = pd.DataFrame(data2['payment_tokens'])\n",
    "df2_rarity = pd.DataFrame([data2['rarity']])"
   ],
   "metadata": {
    "collapsed": false,
    "ExecuteTime": {
     "end_time": "2024-02-28T17:39:03.576834Z",
     "start_time": "2024-02-28T17:39:03.574045Z"
    }
   },
   "id": "122a515056ec23eb",
   "execution_count": 46
  },
  {
   "cell_type": "code",
   "outputs": [],
   "source": [
    "events_normalized = []\n",
    "for event in data3['asset_events']:\n",
    "    # Initialize event_data with event fields, excluding nft, asset, payment, criteria\n",
    "    event_data = {k: v for k, v in event.items() if k not in ['nft', 'asset', 'payment', 'criteria']}\n",
    "    \n",
    "    # Check and add nft data if present\n",
    "    if 'nft' in event and event['nft'] is not None:\n",
    "        nft_data = {'nft_' + k: v for k, v in event['nft'].items()}\n",
    "        event_data.update(nft_data)\n",
    "    \n",
    "    # Check and add asset data if present\n",
    "    elif 'asset' in event and event['asset'] is not None:\n",
    "        asset_data = {'asset_' + k: v for k, v in event['asset'].items()}\n",
    "        event_data.update(asset_data)\n",
    "    \n",
    "    # Check and include payment data if necessary and present\n",
    "    if 'payment' in event and event['payment'] is not None:\n",
    "        payment_data = {'payment_' + k: v for k, v in event['payment'].items()}\n",
    "        event_data.update(payment_data)\n",
    "    \n",
    "    events_normalized.append(event_data)\n",
    "\n",
    "df_events = pd.DataFrame(events_normalized)"
   ],
   "metadata": {
    "collapsed": false,
    "ExecuteTime": {
     "end_time": "2024-02-28T17:39:04.287565Z",
     "start_time": "2024-02-28T17:39:04.281976Z"
    }
   },
   "id": "dc3abe56197963bf",
   "execution_count": 47
  },
  {
   "cell_type": "code",
   "outputs": [],
   "source": [
    "# Export to CSV\n",
    "df1_total.to_csv('api1_total_stats.csv', index=False)\n",
    "df1_intervals.to_csv('api1_intervals_stats.csv', index=False)\n",
    "df2_collection.to_csv('api2_collection_info.csv', index=False)\n",
    "df2_contracts.to_csv('api2_collection_contracts.csv', index=False)\n",
    "df2_fees.to_csv('api2_collection_fees.csv', index=False)\n",
    "df2_payment_tokens.to_csv('api2_collection_payment_tokens.csv', index=False)\n",
    "df2_rarity.to_csv('api2_collection_rarity.csv', index=False)\n",
    "df_events.to_csv('api3_events.csv', index=False)\n"
   ],
   "metadata": {
    "collapsed": false,
    "ExecuteTime": {
     "end_time": "2024-02-28T17:35:15.578951Z",
     "start_time": "2024-02-28T17:35:15.564559Z"
    }
   },
   "id": "a06d331a75eb2126",
   "execution_count": 35
  },
  {
   "cell_type": "code",
   "outputs": [
    {
     "name": "stdout",
     "output_type": "stream",
     "text": [
      "  event_type                                         order_hash  order_type  \\\n",
      "0      order  0x7a9839ed655fe5c557c85827e5c1a01f5b4c5e356b12...  item_offer   \n",
      "1      order  0xbca82ba0b299f59112d831114622d6d48a3cdab50528...  item_offer   \n",
      "2      order  0xf18d18904e25c9287bfd42da93847111706fae1d80ed...  item_offer   \n",
      "3      order  0xde2c73ad9a9c601973191f8f1360013e155df442153f...  item_offer   \n",
      "4      order  0x7f5848588d4cd380cab338d3bf5ad7fe9349bd7959a8...  item_offer   \n",
      "\n",
      "      chain                            protocol_address  start_date  \\\n",
      "0  ethereum  0x00000000000000adc04c56bf30ac9d3c0aaf14dc  1709141932   \n",
      "1  ethereum  0x00000000000000adc04c56bf30ac9d3c0aaf14dc  1709141937   \n",
      "2  ethereum  0x00000000000000adc04c56bf30ac9d3c0aaf14dc  1709141936   \n",
      "3  ethereum  0x00000000000000adc04c56bf30ac9d3c0aaf14dc  1709141936   \n",
      "4  ethereum  0x00000000000000adc04c56bf30ac9d3c0aaf14dc  1709141936   \n",
      "\n",
      "   expiration_date  quantity                                       maker  \\\n",
      "0       1709143122         1  0x0097b9cfe64455eed479292671a1121f502bc954   \n",
      "1       1709142837         1  0xb7369571488a0d88ebbd7b327c47315ce3e697a1   \n",
      "2       1709142836         1  0x48aabab1e5224540dfd31e48ded0ba6725185c93   \n",
      "3       1709142836         1  0x66233c756410b1477033d39557f551c87f2dc4ca   \n",
      "4       1709142836         1  0xb7369571488a0d88ebbd7b327c47315ce3e697a1   \n",
      "\n",
      "  taker  ...                                    asset_image_url  \\\n",
      "0        ...  https://ipfs.io/ipfs/QmdJRBMzE7G7PdpqWwDi1uCjo...   \n",
      "1        ...  https://ipfs.io/ipfs/QmfYJZtXzRNSrbDbADrUdjym9...   \n",
      "2        ...  https://ipfs.io/ipfs/QmYzodBqxn7aaRtQZiH4LxaK8...   \n",
      "3        ...  https://ipfs.io/ipfs/QmWx2cfh6hXKyVqbGG99Dw5zw...   \n",
      "4        ...  https://ipfs.io/ipfs/QmbGffCSXfnDwjpuUdZ9JyJ2r...   \n",
      "\n",
      "                                asset_metadata_url  \\\n",
      "0   https://boredapeyachtclub.com/api/mutants/5016   \n",
      "1    https://boredapeyachtclub.com/api/mutants/492   \n",
      "2  https://boredapeyachtclub.com/api/mutants/19161   \n",
      "3  https://boredapeyachtclub.com/api/mutants/26489   \n",
      "4  https://boredapeyachtclub.com/api/mutants/10147   \n",
      "\n",
      "                                   asset_opensea_url  \\\n",
      "0  https://opensea.io/assets/ethereum/0x60e4d7866...   \n",
      "1  https://opensea.io/assets/ethereum/0x60e4d7866...   \n",
      "2  https://opensea.io/assets/ethereum/0x60e4d7866...   \n",
      "3  https://opensea.io/assets/ethereum/0x60e4d7866...   \n",
      "4  https://opensea.io/assets/ethereum/0x60e4d7866...   \n",
      "\n",
      "             asset_updated_at asset_is_disabled asset_is_nsfw  \\\n",
      "0  2024-01-23T21:31:36.267108             False         False   \n",
      "1  2024-01-23T21:30:48.338007             False         False   \n",
      "2  2024-01-23T21:32:47.502417             False         False   \n",
      "3  2024-01-23T21:32:59.504744             False         False   \n",
      "4  2024-01-31T04:08:32.923696             False         False   \n",
      "\n",
      "      payment_quantity                       payment_token_address  \\\n",
      "0  4495000000000000000  0xc02aaa39b223fe8d0a0e5c4f27ead9083c756cc2   \n",
      "1  4574800000000000000  0xc02aaa39b223fe8d0a0e5c4f27ead9083c756cc2   \n",
      "2  6562000000000000000  0xc02aaa39b223fe8d0a0e5c4f27ead9083c756cc2   \n",
      "3  4579600000000000000  0xc02aaa39b223fe8d0a0e5c4f27ead9083c756cc2   \n",
      "4  7487600000000000000  0xc02aaa39b223fe8d0a0e5c4f27ead9083c756cc2   \n",
      "\n",
      "  payment_decimals payment_symbol  \n",
      "0               18           WETH  \n",
      "1               18           WETH  \n",
      "2               18           WETH  \n",
      "3               18           WETH  \n",
      "4               18           WETH  \n",
      "\n",
      "[5 rows x 28 columns]\n"
     ]
    }
   ],
   "source": [
    "print(df_events.head())"
   ],
   "metadata": {
    "collapsed": false,
    "ExecuteTime": {
     "end_time": "2024-02-28T17:39:12.125606Z",
     "start_time": "2024-02-28T17:39:12.120328Z"
    }
   },
   "id": "e0912a219284bd87",
   "execution_count": 48
  },
  {
   "cell_type": "code",
   "outputs": [
    {
     "name": "stdout",
     "output_type": "stream",
     "text": [
      "         volume   sales  average_price  num_owners    market_cap  floor_price  \\\n",
      "0  1.123497e+06  109624      10.248641       11176  80293.824706       4.0699   \n",
      "\n",
      "  floor_price_symbol  \n",
      "0                ETH  \n"
     ]
    }
   ],
   "source": [
    "print(df1_total.head())"
   ],
   "metadata": {
    "collapsed": false,
    "ExecuteTime": {
     "end_time": "2024-02-28T17:39:14.931047Z",
     "start_time": "2024-02-28T17:39:14.925893Z"
    }
   },
   "id": "b78a91f641159b25",
   "execution_count": 49
  },
  {
   "cell_type": "code",
   "outputs": [
    {
     "name": "stdout",
     "output_type": "stream",
     "text": [
      "     interval        volume  volume_diff  volume_change  sales  sales_diff  \\\n",
      "0     one_day    457.523098         28.0       0.322060    112    0.333333   \n",
      "1   seven_day   3704.030604       -803.0      -0.461064    899    0.000000   \n",
      "2  thirty_day  22590.770628      -4037.0      -0.488392   5417    0.000000   \n",
      "\n",
      "   average_price  \n",
      "0       4.085028  \n",
      "1       4.120168  \n",
      "2       4.170347  \n"
     ]
    }
   ],
   "source": [
    "print(df1_intervals.head())"
   ],
   "metadata": {
    "collapsed": false,
    "ExecuteTime": {
     "end_time": "2024-02-28T17:39:16.401162Z",
     "start_time": "2024-02-28T17:39:16.396243Z"
    }
   },
   "id": "44b427d3a267e615",
   "execution_count": 50
  },
  {
   "cell_type": "code",
   "outputs": [
    {
     "name": "stdout",
     "output_type": "stream",
     "text": [
      "   fee                                   recipient  required\n",
      "0  2.5  0x0000a26b00c1f0df003000390027140000faa719      True\n",
      "1  1.0  0xa858ddc0445d8131dac4d1de01f834ffcba52ef1     False\n"
     ]
    }
   ],
   "source": [
    "print(df2_fees)"
   ],
   "metadata": {
    "collapsed": false,
    "ExecuteTime": {
     "end_time": "2024-02-28T17:39:18.492611Z",
     "start_time": "2024-02-28T17:39:18.488978Z"
    }
   },
   "id": "f167464f8d9a093f",
   "execution_count": 51
  },
  {
   "cell_type": "code",
   "outputs": [
    {
     "name": "stdout",
     "output_type": "stream",
     "text": [
      "  strategy_id strategy_version               calculated_at  max_rank  \\\n",
      "0  openrarity          0.4.3b0  2022-09-21T08:03:09.853307     19425   \n",
      "\n",
      "   tokens_scored  \n",
      "0          19425  \n"
     ]
    }
   ],
   "source": [
    "print(df2_rarity)\n"
   ],
   "metadata": {
    "collapsed": false,
    "ExecuteTime": {
     "end_time": "2024-02-28T17:39:20.716417Z",
     "start_time": "2024-02-28T17:39:20.703691Z"
    }
   },
   "id": "e5d711d101917bb8",
   "execution_count": 52
  },
  {
   "cell_type": "code",
   "outputs": [
    {
     "name": "stdout",
     "output_type": "stream",
     "text": [
      "  symbol                                     address     chain  \\\n",
      "0    ETH  0x0000000000000000000000000000000000000000  ethereum   \n",
      "1   WETH  0xc02aaa39b223fe8d0a0e5c4f27ead9083c756cc2  ethereum   \n",
      "2   USDC  0xa0b86991c6218b36c1d19d4a2e9eb0ce3606eb48  ethereum   \n",
      "3    APE  0x4d224452801aced8b2f0aebe155379bb5d594381  ethereum   \n",
      "\n",
      "                                 image           name  decimals  \\\n",
      "0   https://raw.seadn.io/files/ETH.svg          Ether        18   \n",
      "1  https://raw.seadn.io/files/WETH.svg  Wrapped Ether        18   \n",
      "2  https://raw.seadn.io/files/USDC.svg       USD Coin         6   \n",
      "3   https://raw.seadn.io/files/APE.svg        ApeCoin        18   \n",
      "\n",
      "           eth_price                usd_price  \n",
      "0  1.000000000000000  3428.269999999999982000  \n",
      "1  1.000000000000000  3450.710000000000036000  \n",
      "2  0.000288110000000     0.986690000000000000  \n",
      "3  0.000568930000000     1.950000000000000000  \n"
     ]
    }
   ],
   "source": [
    "print(df2_payment_tokens)\n"
   ],
   "metadata": {
    "collapsed": false,
    "ExecuteTime": {
     "end_time": "2024-02-28T17:39:24.640942Z",
     "start_time": "2024-02-28T17:39:24.636998Z"
    }
   },
   "id": "43faf15a56def68c",
   "execution_count": 53
  },
  {
   "cell_type": "code",
   "outputs": [
    {
     "name": "stdout",
     "output_type": "stream",
     "text": [
      "              collection                   name  \\\n",
      "0  mutant-ape-yacht-club  Mutant Ape Yacht Club   \n",
      "\n",
      "                                         description  \\\n",
      "0  The MUTANT APE YACHT CLUB is a collection of u...   \n",
      "\n",
      "                                           image_url  \\\n",
      "0  https://i.seadn.io/gae/lHexKRMpw-aoSyB1WdFBff5...   \n",
      "\n",
      "                                    banner_image_url  \\\n",
      "0  https://i.seadn.io/gae/5c-HcdLMinTg3LvEwXYZYC-...   \n",
      "\n",
      "                                        owner category  is_disabled  is_nsfw  \\\n",
      "0  0xcac7c29bac18f080b98a3076b4e165886f509251     pfps        False    False   \n",
      "\n",
      "   trait_offers_enabled  collection_offers_enabled  \\\n",
      "0                  True                       True   \n",
      "\n",
      "                                         opensea_url project_url wiki_url  \\\n",
      "0  https://opensea.io/collection/mutant-ape-yacht...                        \n",
      "\n",
      "  discord_url telegram_url twitter_username instagram_username  total_supply  \\\n",
      "0                                                                      19488   \n",
      "\n",
      "  created_date  \n",
      "0   2021-08-29  \n"
     ]
    }
   ],
   "source": [
    "print(df2_collection)\n"
   ],
   "metadata": {
    "collapsed": false,
    "ExecuteTime": {
     "end_time": "2024-02-28T17:39:25.725521Z",
     "start_time": "2024-02-28T17:39:25.721499Z"
    }
   },
   "id": "6704cd6a0caf2001",
   "execution_count": 54
  },
  {
   "cell_type": "code",
   "outputs": [
    {
     "name": "stdout",
     "output_type": "stream",
     "text": [
      "                                      address     chain\n",
      "0  0x60e4d786628fea6478f785a6d7e704777c86a7c6  ethereum\n"
     ]
    }
   ],
   "source": [
    "print(df2_contracts)\n"
   ],
   "metadata": {
    "collapsed": false,
    "ExecuteTime": {
     "end_time": "2024-02-28T17:38:09.470150Z",
     "start_time": "2024-02-28T17:38:09.467351Z"
    }
   },
   "id": "1916728e4adb0eba",
   "execution_count": 43
  },
  {
   "cell_type": "code",
   "outputs": [],
   "source": [],
   "metadata": {
    "collapsed": false
   },
   "id": "4ea762e9a7e5ba4a"
  }
 ],
 "metadata": {
  "kernelspec": {
   "display_name": "Python 3",
   "language": "python",
   "name": "python3"
  },
  "language_info": {
   "codemirror_mode": {
    "name": "ipython",
    "version": 2
   },
   "file_extension": ".py",
   "mimetype": "text/x-python",
   "name": "python",
   "nbconvert_exporter": "python",
   "pygments_lexer": "ipython2",
   "version": "2.7.6"
  }
 },
 "nbformat": 4,
 "nbformat_minor": 5
}
