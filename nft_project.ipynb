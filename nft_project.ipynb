{
 "cells": [
  {
   "cell_type": "code",
   "outputs": [],
   "source": [
    "import requests\n",
    "import pandas as pd\n",
    "from dotenv import load_dotenv\n",
    "import os\n",
    "from requests.adapters import HTTPAdapter\n",
    "from requests.packages.urllib3.util.retry import Retry\n",
    "import ast\n"
   ],
   "metadata": {
    "collapsed": false,
    "ExecuteTime": {
     "end_time": "2024-03-12T03:04:08.944431Z",
     "start_time": "2024-03-12T03:04:08.933217Z"
    }
   },
   "id": "4c7922c2144ccea",
   "execution_count": 746
  },
  {
   "cell_type": "code",
   "outputs": [],
   "source": [
    "load_dotenv()\n",
    "OPENSEA_API = os.getenv('OPENSEA_API_KEY')"
   ],
   "metadata": {
    "collapsed": false,
    "ExecuteTime": {
     "end_time": "2024-03-12T03:04:09.411633Z",
     "start_time": "2024-03-12T03:04:09.404980Z"
    }
   },
   "id": "aa5284aa8f0e0fde",
   "execution_count": 747
  },
  {
   "cell_type": "code",
   "outputs": [],
   "source": [
    "def requests_session_with_retries():\n",
    "    session = requests.Session()\n",
    "    retries = Retry(total=5,  # Total number of retries to allow.\n",
    "                    backoff_factor=1,  # A backoff factor to apply between attempts.\n",
    "                    status_forcelist=[500, 502, 503, 504])  # A set of HTTP status codes that we should force a retry on.\n",
    "    adapter = HTTPAdapter(max_retries=retries)\n",
    "    session.mount('http://', adapter)\n",
    "    session.mount('https://', adapter)\n",
    "    return session"
   ],
   "metadata": {
    "collapsed": false,
    "ExecuteTime": {
     "end_time": "2024-03-12T03:04:09.650436Z",
     "start_time": "2024-03-12T03:04:09.645451Z"
    }
   },
   "id": "7303d4ef157f7d84",
   "execution_count": 748
  },
  {
   "cell_type": "code",
   "outputs": [],
   "source": [
    "def fetch_api_data_paginated(base_url, headers=None, data_key='asset_events'):\n",
    "    session = requests_session_with_retries()\n",
    "    all_data = []\n",
    "    url = base_url\n",
    "    \n",
    "    while url:\n",
    "        print(f\"Requesting URL: {url}\")\n",
    "        response = session.get(url, headers=headers, timeout=30)\n",
    "       \n",
    "        if response.status_code == 200:\n",
    "            data = response.json()\n",
    "            page_data = data.get(data_key, [])\n",
    "            all_data.extend(page_data)\n",
    "            next_cursor = data.get('next', \"\")\n",
    "            print(next_cursor)\n",
    "            if next_cursor:\n",
    "                url = f\"{base_url}?next={next_cursor}\"\n",
    "            else:\n",
    "                url = None\n",
    "        else:\n",
    "            print(f\"Failed to fetch data from {url} - Status Code: {response.status_code}\")\n",
    "            break\n",
    "        \n",
    "    return pd.json_normalize(all_data)  # Convert the aggregated data to a DataFrame\n"
   ],
   "metadata": {
    "collapsed": false,
    "ExecuteTime": {
     "end_time": "2024-03-12T03:04:09.988823Z",
     "start_time": "2024-03-12T03:04:09.983528Z"
    }
   },
   "id": "4be1bd239dd2037a",
   "execution_count": 749
  },
  {
   "cell_type": "code",
   "outputs": [],
   "source": [
    "# Function to fetch data from an API\n",
    "def fetch_api_data(url, headers=None):\n",
    "    response = requests.get(url, headers=headers)\n",
    "    if response.status_code == 200:\n",
    "        return response.json()  # Return the JSON data directly\n",
    "    else:\n",
    "        print(f\"Failed to fetch data from {url}\")\n",
    "        return None\n"
   ],
   "metadata": {
    "collapsed": false,
    "ExecuteTime": {
     "end_time": "2024-03-12T03:04:10.660147Z",
     "start_time": "2024-03-12T03:04:10.651900Z"
    }
   },
   "id": "a5340f5540ba0372",
   "execution_count": 750
  },
  {
   "cell_type": "code",
   "outputs": [
    {
     "name": "stdout",
     "output_type": "stream",
     "text": [
      "Requesting URL: https://api.opensea.io/api/v2/events/collection/boredapeyachtclub?event_type=sale\n",
      "LWV2ZW50X3RpbWVzdGFtcD0yMDI0LTAzLTExKzA3JTNBMjYlM0E1OSYtZXZlbnRfdHlwZT1zdWNjZXNzZnVsJi1waz0yMDg0NjM3NTA2OQ==\n",
      "Requesting URL: https://api.opensea.io/api/v2/events/collection/boredapeyachtclub?event_type=sale?next=LWV2ZW50X3RpbWVzdGFtcD0yMDI0LTAzLTExKzA3JTNBMjYlM0E1OSYtZXZlbnRfdHlwZT1zdWNjZXNzZnVsJi1waz0yMDg0NjM3NTA2OQ==\n",
      "Failed to fetch data from https://api.opensea.io/api/v2/events/collection/boredapeyachtclub?event_type=sale?next=LWV2ZW50X3RpbWVzdGFtcD0yMDI0LTAzLTExKzA3JTNBMjYlM0E1OSYtZXZlbnRfdHlwZT1zdWNjZXNzZnVsJi1waz0yMDg0NjM3NTA2OQ== - Status Code: 400\n",
      "Requesting URL: https://api.opensea.io/api/v2/collection/boredapeyachtclub/nfts\n",
      "LXBrPTIzMTQzNzAz\n",
      "Requesting URL: https://api.opensea.io/api/v2/collection/boredapeyachtclub/nfts?next=LXBrPTIzMTQzNzAz\n",
      "LXBrPTIzMTQzNjUz\n",
      "Requesting URL: https://api.opensea.io/api/v2/collection/boredapeyachtclub/nfts?next=LXBrPTIzMTQzNjUz\n",
      "LXBrPTIzMTQzNTkw\n",
      "Requesting URL: https://api.opensea.io/api/v2/collection/boredapeyachtclub/nfts?next=LXBrPTIzMTQzNTkw\n",
      "LXBrPTIzMTQzNTM5\n",
      "Requesting URL: https://api.opensea.io/api/v2/collection/boredapeyachtclub/nfts?next=LXBrPTIzMTQzNTM5\n",
      "LXBrPTIzMTQzNDgy\n",
      "Requesting URL: https://api.opensea.io/api/v2/collection/boredapeyachtclub/nfts?next=LXBrPTIzMTQzNDgy\n",
      "LXBrPTIzMTQzNDI3\n",
      "Requesting URL: https://api.opensea.io/api/v2/collection/boredapeyachtclub/nfts?next=LXBrPTIzMTQzNDI3\n",
      "LXBrPTIzMTQzMzc0\n",
      "Requesting URL: https://api.opensea.io/api/v2/collection/boredapeyachtclub/nfts?next=LXBrPTIzMTQzMzc0\n",
      "LXBrPTIzMTQzMzE4\n",
      "Requesting URL: https://api.opensea.io/api/v2/collection/boredapeyachtclub/nfts?next=LXBrPTIzMTQzMzE4\n",
      "LXBrPTIzMTQzMjY0\n",
      "Requesting URL: https://api.opensea.io/api/v2/collection/boredapeyachtclub/nfts?next=LXBrPTIzMTQzMjY0\n",
      "LXBrPTIzMTQzMjEy\n",
      "Requesting URL: https://api.opensea.io/api/v2/collection/boredapeyachtclub/nfts?next=LXBrPTIzMTQzMjEy\n",
      "LXBrPTIzMTQzMTU1\n",
      "Requesting URL: https://api.opensea.io/api/v2/collection/boredapeyachtclub/nfts?next=LXBrPTIzMTQzMTU1\n",
      "LXBrPTIzMTQzMDg5\n",
      "Requesting URL: https://api.opensea.io/api/v2/collection/boredapeyachtclub/nfts?next=LXBrPTIzMTQzMDg5\n",
      "LXBrPTIzMTQzMDMx\n",
      "Requesting URL: https://api.opensea.io/api/v2/collection/boredapeyachtclub/nfts?next=LXBrPTIzMTQzMDMx\n",
      "LXBrPTIzMTQyOTc5\n",
      "Requesting URL: https://api.opensea.io/api/v2/collection/boredapeyachtclub/nfts?next=LXBrPTIzMTQyOTc5\n",
      "LXBrPTIzMTQyOTIy\n",
      "Requesting URL: https://api.opensea.io/api/v2/collection/boredapeyachtclub/nfts?next=LXBrPTIzMTQyOTIy\n",
      "LXBrPTIzMTQyODYz\n",
      "Requesting URL: https://api.opensea.io/api/v2/collection/boredapeyachtclub/nfts?next=LXBrPTIzMTQyODYz\n",
      "LXBrPTIzMTQyODAx\n",
      "Requesting URL: https://api.opensea.io/api/v2/collection/boredapeyachtclub/nfts?next=LXBrPTIzMTQyODAx\n",
      "LXBrPTIzMTQyNzM4\n",
      "Requesting URL: https://api.opensea.io/api/v2/collection/boredapeyachtclub/nfts?next=LXBrPTIzMTQyNzM4\n",
      "LXBrPTIzMTQyNjgy\n",
      "Requesting URL: https://api.opensea.io/api/v2/collection/boredapeyachtclub/nfts?next=LXBrPTIzMTQyNjgy\n",
      "LXBrPTIzMTQyNjI4\n",
      "Requesting URL: https://api.opensea.io/api/v2/collection/boredapeyachtclub/nfts?next=LXBrPTIzMTQyNjI4\n",
      "LXBrPTIzMTQyNTc3\n",
      "Requesting URL: https://api.opensea.io/api/v2/collection/boredapeyachtclub/nfts?next=LXBrPTIzMTQyNTc3\n",
      "LXBrPTIzMTQyNTI2\n",
      "Requesting URL: https://api.opensea.io/api/v2/collection/boredapeyachtclub/nfts?next=LXBrPTIzMTQyNTI2\n",
      "LXBrPTIzMTQyNDc1\n",
      "Requesting URL: https://api.opensea.io/api/v2/collection/boredapeyachtclub/nfts?next=LXBrPTIzMTQyNDc1\n",
      "LXBrPTIzMTQyNDAz\n",
      "Requesting URL: https://api.opensea.io/api/v2/collection/boredapeyachtclub/nfts?next=LXBrPTIzMTQyNDAz\n",
      "LXBrPTIzMTQyMzEz\n",
      "Requesting URL: https://api.opensea.io/api/v2/collection/boredapeyachtclub/nfts?next=LXBrPTIzMTQyMzEz\n",
      "LXBrPTIzMTQyMjYx\n",
      "Requesting URL: https://api.opensea.io/api/v2/collection/boredapeyachtclub/nfts?next=LXBrPTIzMTQyMjYx\n",
      "LXBrPTIzMTQyMTk5\n",
      "Requesting URL: https://api.opensea.io/api/v2/collection/boredapeyachtclub/nfts?next=LXBrPTIzMTQyMTk5\n",
      "LXBrPTIzMTQyMTQz\n",
      "Requesting URL: https://api.opensea.io/api/v2/collection/boredapeyachtclub/nfts?next=LXBrPTIzMTQyMTQz\n",
      "LXBrPTIzMTQyMDkz\n",
      "Requesting URL: https://api.opensea.io/api/v2/collection/boredapeyachtclub/nfts?next=LXBrPTIzMTQyMDkz\n",
      "LXBrPTIzMTQyMDIx\n",
      "Requesting URL: https://api.opensea.io/api/v2/collection/boredapeyachtclub/nfts?next=LXBrPTIzMTQyMDIx\n",
      "LXBrPTIzMTQxOTYz\n",
      "Requesting URL: https://api.opensea.io/api/v2/collection/boredapeyachtclub/nfts?next=LXBrPTIzMTQxOTYz\n",
      "LXBrPTIzMTQxODk0\n",
      "Requesting URL: https://api.opensea.io/api/v2/collection/boredapeyachtclub/nfts?next=LXBrPTIzMTQxODk0\n",
      "LXBrPTIzMTQxODMx\n",
      "Requesting URL: https://api.opensea.io/api/v2/collection/boredapeyachtclub/nfts?next=LXBrPTIzMTQxODMx\n",
      "LXBrPTIzMTQxNzY5\n",
      "Requesting URL: https://api.opensea.io/api/v2/collection/boredapeyachtclub/nfts?next=LXBrPTIzMTQxNzY5\n",
      "LXBrPTIzMTQxNzEx\n",
      "Requesting URL: https://api.opensea.io/api/v2/collection/boredapeyachtclub/nfts?next=LXBrPTIzMTQxNzEx\n",
      "LXBrPTIzMTQxNjU1\n",
      "Requesting URL: https://api.opensea.io/api/v2/collection/boredapeyachtclub/nfts?next=LXBrPTIzMTQxNjU1\n",
      "LXBrPTIzMTQxNTk1\n",
      "Requesting URL: https://api.opensea.io/api/v2/collection/boredapeyachtclub/nfts?next=LXBrPTIzMTQxNTk1\n",
      "LXBrPTIzMTQxNTM4\n",
      "Requesting URL: https://api.opensea.io/api/v2/collection/boredapeyachtclub/nfts?next=LXBrPTIzMTQxNTM4\n",
      "LXBrPTIzMTQxNDcx\n",
      "Requesting URL: https://api.opensea.io/api/v2/collection/boredapeyachtclub/nfts?next=LXBrPTIzMTQxNDcx\n",
      "LXBrPTIzMTQxNDE5\n",
      "Requesting URL: https://api.opensea.io/api/v2/collection/boredapeyachtclub/nfts?next=LXBrPTIzMTQxNDE5\n",
      "LXBrPTIzMTQxMzQ4\n",
      "Requesting URL: https://api.opensea.io/api/v2/collection/boredapeyachtclub/nfts?next=LXBrPTIzMTQxMzQ4\n",
      "LXBrPTIzMTQxMjgw\n",
      "Requesting URL: https://api.opensea.io/api/v2/collection/boredapeyachtclub/nfts?next=LXBrPTIzMTQxMjgw\n",
      "LXBrPTIzMTQxMTk4\n",
      "Requesting URL: https://api.opensea.io/api/v2/collection/boredapeyachtclub/nfts?next=LXBrPTIzMTQxMTk4\n",
      "LXBrPTIzMTQxMTMy\n",
      "Requesting URL: https://api.opensea.io/api/v2/collection/boredapeyachtclub/nfts?next=LXBrPTIzMTQxMTMy\n",
      "LXBrPTIzMTQxMDc2\n",
      "Requesting URL: https://api.opensea.io/api/v2/collection/boredapeyachtclub/nfts?next=LXBrPTIzMTQxMDc2\n",
      "LXBrPTIzMTQxMDA0\n",
      "Requesting URL: https://api.opensea.io/api/v2/collection/boredapeyachtclub/nfts?next=LXBrPTIzMTQxMDA0\n",
      "LXBrPTIzMTQwOTI0\n",
      "Requesting URL: https://api.opensea.io/api/v2/collection/boredapeyachtclub/nfts?next=LXBrPTIzMTQwOTI0\n",
      "LXBrPTIzMTQwODU5\n",
      "Requesting URL: https://api.opensea.io/api/v2/collection/boredapeyachtclub/nfts?next=LXBrPTIzMTQwODU5\n",
      "LXBrPTIzMTQwODAw\n",
      "Requesting URL: https://api.opensea.io/api/v2/collection/boredapeyachtclub/nfts?next=LXBrPTIzMTQwODAw\n",
      "LXBrPTIzMTQwNjc4\n",
      "Requesting URL: https://api.opensea.io/api/v2/collection/boredapeyachtclub/nfts?next=LXBrPTIzMTQwNjc4\n",
      "LXBrPTIzMTQwNjE0\n",
      "Requesting URL: https://api.opensea.io/api/v2/collection/boredapeyachtclub/nfts?next=LXBrPTIzMTQwNjE0\n",
      "LXBrPTIzMTQwNTM3\n",
      "Requesting URL: https://api.opensea.io/api/v2/collection/boredapeyachtclub/nfts?next=LXBrPTIzMTQwNTM3\n",
      "LXBrPTIzMTQwNDc4\n",
      "Requesting URL: https://api.opensea.io/api/v2/collection/boredapeyachtclub/nfts?next=LXBrPTIzMTQwNDc4\n",
      "LXBrPTIzMTQwNDE0\n",
      "Requesting URL: https://api.opensea.io/api/v2/collection/boredapeyachtclub/nfts?next=LXBrPTIzMTQwNDE0\n",
      "LXBrPTIzMTQwMzU1\n",
      "Requesting URL: https://api.opensea.io/api/v2/collection/boredapeyachtclub/nfts?next=LXBrPTIzMTQwMzU1\n",
      "LXBrPTIzMTQwMjkw\n",
      "Requesting URL: https://api.opensea.io/api/v2/collection/boredapeyachtclub/nfts?next=LXBrPTIzMTQwMjkw\n",
      "LXBrPTIzMTQwMTcx\n",
      "Requesting URL: https://api.opensea.io/api/v2/collection/boredapeyachtclub/nfts?next=LXBrPTIzMTQwMTcx\n",
      "LXBrPTIzMTQwMTAy\n",
      "Requesting URL: https://api.opensea.io/api/v2/collection/boredapeyachtclub/nfts?next=LXBrPTIzMTQwMTAy\n",
      "LXBrPTIzMTQwMDQ3\n",
      "Requesting URL: https://api.opensea.io/api/v2/collection/boredapeyachtclub/nfts?next=LXBrPTIzMTQwMDQ3\n",
      "LXBrPTIzMTM5OTc0\n",
      "Requesting URL: https://api.opensea.io/api/v2/collection/boredapeyachtclub/nfts?next=LXBrPTIzMTM5OTc0\n",
      "LXBrPTIzMTM5ODk0\n",
      "Requesting URL: https://api.opensea.io/api/v2/collection/boredapeyachtclub/nfts?next=LXBrPTIzMTM5ODk0\n",
      "LXBrPTIzMTM5ODQx\n",
      "Requesting URL: https://api.opensea.io/api/v2/collection/boredapeyachtclub/nfts?next=LXBrPTIzMTM5ODQx\n",
      "LXBrPTIzMTM5Nzc3\n",
      "Requesting URL: https://api.opensea.io/api/v2/collection/boredapeyachtclub/nfts?next=LXBrPTIzMTM5Nzc3\n",
      "LXBrPTIzMTM5Njk5\n",
      "Requesting URL: https://api.opensea.io/api/v2/collection/boredapeyachtclub/nfts?next=LXBrPTIzMTM5Njk5\n",
      "LXBrPTIzMTM5NjM4\n",
      "Requesting URL: https://api.opensea.io/api/v2/collection/boredapeyachtclub/nfts?next=LXBrPTIzMTM5NjM4\n",
      "LXBrPTIzMTM5NTMw\n",
      "Requesting URL: https://api.opensea.io/api/v2/collection/boredapeyachtclub/nfts?next=LXBrPTIzMTM5NTMw\n",
      "LXBrPTIzMTM5NDQz\n",
      "Requesting URL: https://api.opensea.io/api/v2/collection/boredapeyachtclub/nfts?next=LXBrPTIzMTM5NDQz\n",
      "LXBrPTIzMTM5MzYw\n",
      "Requesting URL: https://api.opensea.io/api/v2/collection/boredapeyachtclub/nfts?next=LXBrPTIzMTM5MzYw\n",
      "LXBrPTIzMTM5MjYz\n",
      "Requesting URL: https://api.opensea.io/api/v2/collection/boredapeyachtclub/nfts?next=LXBrPTIzMTM5MjYz\n",
      "LXBrPTIzMTM5MTY4\n",
      "Requesting URL: https://api.opensea.io/api/v2/collection/boredapeyachtclub/nfts?next=LXBrPTIzMTM5MTY4\n",
      "LXBrPTIzMTM5MTE2\n",
      "Requesting URL: https://api.opensea.io/api/v2/collection/boredapeyachtclub/nfts?next=LXBrPTIzMTM5MTE2\n",
      "LXBrPTIzMTM5MDYx\n",
      "Requesting URL: https://api.opensea.io/api/v2/collection/boredapeyachtclub/nfts?next=LXBrPTIzMTM5MDYx\n",
      "LXBrPTIzMTM5MDA5\n",
      "Requesting URL: https://api.opensea.io/api/v2/collection/boredapeyachtclub/nfts?next=LXBrPTIzMTM5MDA5\n",
      "LXBrPTIzMTM4OTA4\n",
      "Requesting URL: https://api.opensea.io/api/v2/collection/boredapeyachtclub/nfts?next=LXBrPTIzMTM4OTA4\n",
      "LXBrPTIzMTM4ODM4\n",
      "Requesting URL: https://api.opensea.io/api/v2/collection/boredapeyachtclub/nfts?next=LXBrPTIzMTM4ODM4\n",
      "LXBrPTIzMTM4Nzcz\n",
      "Requesting URL: https://api.opensea.io/api/v2/collection/boredapeyachtclub/nfts?next=LXBrPTIzMTM4Nzcz\n",
      "LXBrPTIzMTM4NzEx\n",
      "Requesting URL: https://api.opensea.io/api/v2/collection/boredapeyachtclub/nfts?next=LXBrPTIzMTM4NzEx\n",
      "LXBrPTIzMTM4NjI3\n",
      "Requesting URL: https://api.opensea.io/api/v2/collection/boredapeyachtclub/nfts?next=LXBrPTIzMTM4NjI3\n",
      "LXBrPTIzMTM4NTU2\n",
      "Requesting URL: https://api.opensea.io/api/v2/collection/boredapeyachtclub/nfts?next=LXBrPTIzMTM4NTU2\n",
      "LXBrPTIzMTM4NDgw\n",
      "Requesting URL: https://api.opensea.io/api/v2/collection/boredapeyachtclub/nfts?next=LXBrPTIzMTM4NDgw\n",
      "LXBrPTIzMTM4NDIx\n",
      "Requesting URL: https://api.opensea.io/api/v2/collection/boredapeyachtclub/nfts?next=LXBrPTIzMTM4NDIx\n",
      "LXBrPTIzMTM4MzQz\n",
      "Requesting URL: https://api.opensea.io/api/v2/collection/boredapeyachtclub/nfts?next=LXBrPTIzMTM4MzQz\n",
      "LXBrPTIzMTM4Mjc4\n",
      "Requesting URL: https://api.opensea.io/api/v2/collection/boredapeyachtclub/nfts?next=LXBrPTIzMTM4Mjc4\n",
      "LXBrPTIzMTM4MjE3\n",
      "Requesting URL: https://api.opensea.io/api/v2/collection/boredapeyachtclub/nfts?next=LXBrPTIzMTM4MjE3\n",
      "LXBrPTIzMTM4MTM1\n",
      "Requesting URL: https://api.opensea.io/api/v2/collection/boredapeyachtclub/nfts?next=LXBrPTIzMTM4MTM1\n",
      "LXBrPTIzMTM4MDc1\n",
      "Requesting URL: https://api.opensea.io/api/v2/collection/boredapeyachtclub/nfts?next=LXBrPTIzMTM4MDc1\n",
      "LXBrPTIzMTM4MDE5\n",
      "Requesting URL: https://api.opensea.io/api/v2/collection/boredapeyachtclub/nfts?next=LXBrPTIzMTM4MDE5\n",
      "LXBrPTIzMTM3OTQx\n",
      "Requesting URL: https://api.opensea.io/api/v2/collection/boredapeyachtclub/nfts?next=LXBrPTIzMTM3OTQx\n",
      "LXBrPTIzMTM3ODY4\n",
      "Requesting URL: https://api.opensea.io/api/v2/collection/boredapeyachtclub/nfts?next=LXBrPTIzMTM3ODY4\n",
      "LXBrPTIzMTM3Nzk0\n",
      "Requesting URL: https://api.opensea.io/api/v2/collection/boredapeyachtclub/nfts?next=LXBrPTIzMTM3Nzk0\n",
      "LXBrPTIzMTM3NzA5\n",
      "Requesting URL: https://api.opensea.io/api/v2/collection/boredapeyachtclub/nfts?next=LXBrPTIzMTM3NzA5\n",
      "LXBrPTIzMTM3NjIx\n",
      "Requesting URL: https://api.opensea.io/api/v2/collection/boredapeyachtclub/nfts?next=LXBrPTIzMTM3NjIx\n",
      "LXBrPTIzMTM3NTQ0\n",
      "Requesting URL: https://api.opensea.io/api/v2/collection/boredapeyachtclub/nfts?next=LXBrPTIzMTM3NTQ0\n",
      "LXBrPTIzMTM3NDkx\n",
      "Requesting URL: https://api.opensea.io/api/v2/collection/boredapeyachtclub/nfts?next=LXBrPTIzMTM3NDkx\n",
      "LXBrPTIzMTM3NDI2\n",
      "Requesting URL: https://api.opensea.io/api/v2/collection/boredapeyachtclub/nfts?next=LXBrPTIzMTM3NDI2\n",
      "LXBrPTIzMTM3MzU2\n",
      "Requesting URL: https://api.opensea.io/api/v2/collection/boredapeyachtclub/nfts?next=LXBrPTIzMTM3MzU2\n",
      "LXBrPTIzMTM3MjI2\n",
      "Requesting URL: https://api.opensea.io/api/v2/collection/boredapeyachtclub/nfts?next=LXBrPTIzMTM3MjI2\n",
      "LXBrPTIzMTM3MTY4\n",
      "Requesting URL: https://api.opensea.io/api/v2/collection/boredapeyachtclub/nfts?next=LXBrPTIzMTM3MTY4\n",
      "LXBrPTIzMTM3MDkz\n",
      "Requesting URL: https://api.opensea.io/api/v2/collection/boredapeyachtclub/nfts?next=LXBrPTIzMTM3MDkz\n",
      "LXBrPTIzMTM3MDM4\n",
      "Requesting URL: https://api.opensea.io/api/v2/collection/boredapeyachtclub/nfts?next=LXBrPTIzMTM3MDM4\n",
      "LXBrPTIzMTM2OTM1\n",
      "Requesting URL: https://api.opensea.io/api/v2/collection/boredapeyachtclub/nfts?next=LXBrPTIzMTM2OTM1\n",
      "LXBrPTIzMTM2ODQ3\n",
      "Requesting URL: https://api.opensea.io/api/v2/collection/boredapeyachtclub/nfts?next=LXBrPTIzMTM2ODQ3\n",
      "LXBrPTIzMTM2Nzcy\n",
      "Requesting URL: https://api.opensea.io/api/v2/collection/boredapeyachtclub/nfts?next=LXBrPTIzMTM2Nzcy\n",
      "LXBrPTIzMTM2Njkz\n",
      "Requesting URL: https://api.opensea.io/api/v2/collection/boredapeyachtclub/nfts?next=LXBrPTIzMTM2Njkz\n",
      "LXBrPTIzMTM2NTk4\n",
      "Requesting URL: https://api.opensea.io/api/v2/collection/boredapeyachtclub/nfts?next=LXBrPTIzMTM2NTk4\n",
      "LXBrPTIzMTM2NTM0\n",
      "Requesting URL: https://api.opensea.io/api/v2/collection/boredapeyachtclub/nfts?next=LXBrPTIzMTM2NTM0\n",
      "LXBrPTIzMTM2NDc5\n",
      "Requesting URL: https://api.opensea.io/api/v2/collection/boredapeyachtclub/nfts?next=LXBrPTIzMTM2NDc5\n",
      "LXBrPTIzMTM2NDEy\n",
      "Requesting URL: https://api.opensea.io/api/v2/collection/boredapeyachtclub/nfts?next=LXBrPTIzMTM2NDEy\n",
      "LXBrPTIzMTM2MzQ2\n",
      "Requesting URL: https://api.opensea.io/api/v2/collection/boredapeyachtclub/nfts?next=LXBrPTIzMTM2MzQ2\n",
      "LXBrPTIzMTM2Mjc4\n",
      "Requesting URL: https://api.opensea.io/api/v2/collection/boredapeyachtclub/nfts?next=LXBrPTIzMTM2Mjc4\n",
      "LXBrPTIzMTM2MTk3\n",
      "Requesting URL: https://api.opensea.io/api/v2/collection/boredapeyachtclub/nfts?next=LXBrPTIzMTM2MTk3\n",
      "LXBrPTIzMTM2MTM1\n",
      "Requesting URL: https://api.opensea.io/api/v2/collection/boredapeyachtclub/nfts?next=LXBrPTIzMTM2MTM1\n",
      "LXBrPTIzMTM2MDcx\n",
      "Requesting URL: https://api.opensea.io/api/v2/collection/boredapeyachtclub/nfts?next=LXBrPTIzMTM2MDcx\n",
      "LXBrPTIzMTM2MDA0\n",
      "Requesting URL: https://api.opensea.io/api/v2/collection/boredapeyachtclub/nfts?next=LXBrPTIzMTM2MDA0\n",
      "LXBrPTIzMTM1OTQ2\n",
      "Requesting URL: https://api.opensea.io/api/v2/collection/boredapeyachtclub/nfts?next=LXBrPTIzMTM1OTQ2\n",
      "LXBrPTIzMTM1ODcz\n",
      "Requesting URL: https://api.opensea.io/api/v2/collection/boredapeyachtclub/nfts?next=LXBrPTIzMTM1ODcz\n",
      "LXBrPTIzMTM1ODA0\n",
      "Requesting URL: https://api.opensea.io/api/v2/collection/boredapeyachtclub/nfts?next=LXBrPTIzMTM1ODA0\n",
      "LXBrPTIzMTM1NzE0\n",
      "Requesting URL: https://api.opensea.io/api/v2/collection/boredapeyachtclub/nfts?next=LXBrPTIzMTM1NzE0\n",
      "LXBrPTIzMTM1NjM3\n",
      "Requesting URL: https://api.opensea.io/api/v2/collection/boredapeyachtclub/nfts?next=LXBrPTIzMTM1NjM3\n",
      "LXBrPTIzMTM1NTc3\n",
      "Requesting URL: https://api.opensea.io/api/v2/collection/boredapeyachtclub/nfts?next=LXBrPTIzMTM1NTc3\n",
      "LXBrPTIzMTM1NTA1\n",
      "Requesting URL: https://api.opensea.io/api/v2/collection/boredapeyachtclub/nfts?next=LXBrPTIzMTM1NTA1\n",
      "LXBrPTIzMTM1NDQ2\n",
      "Requesting URL: https://api.opensea.io/api/v2/collection/boredapeyachtclub/nfts?next=LXBrPTIzMTM1NDQ2\n",
      "LXBrPTIzMTM1Mzg0\n",
      "Requesting URL: https://api.opensea.io/api/v2/collection/boredapeyachtclub/nfts?next=LXBrPTIzMTM1Mzg0\n",
      "LXBrPTIzMTM1MzE0\n",
      "Requesting URL: https://api.opensea.io/api/v2/collection/boredapeyachtclub/nfts?next=LXBrPTIzMTM1MzE0\n",
      "LXBrPTIzMTM1MjUz\n",
      "Requesting URL: https://api.opensea.io/api/v2/collection/boredapeyachtclub/nfts?next=LXBrPTIzMTM1MjUz\n",
      "LXBrPTIzMTM1MTg4\n",
      "Requesting URL: https://api.opensea.io/api/v2/collection/boredapeyachtclub/nfts?next=LXBrPTIzMTM1MTg4\n",
      "LXBrPTIzMTM1MTA4\n",
      "Requesting URL: https://api.opensea.io/api/v2/collection/boredapeyachtclub/nfts?next=LXBrPTIzMTM1MTA4\n",
      "LXBrPTIzMTM1MDQw\n",
      "Requesting URL: https://api.opensea.io/api/v2/collection/boredapeyachtclub/nfts?next=LXBrPTIzMTM1MDQw\n",
      "LXBrPTIzMTM0OTgx\n",
      "Requesting URL: https://api.opensea.io/api/v2/collection/boredapeyachtclub/nfts?next=LXBrPTIzMTM0OTgx\n",
      "LXBrPTIzMTM0OTE4\n",
      "Requesting URL: https://api.opensea.io/api/v2/collection/boredapeyachtclub/nfts?next=LXBrPTIzMTM0OTE4\n",
      "LXBrPTIzMTM0ODM1\n",
      "Requesting URL: https://api.opensea.io/api/v2/collection/boredapeyachtclub/nfts?next=LXBrPTIzMTM0ODM1\n",
      "LXBrPTIzMTM0Nzc1\n",
      "Requesting URL: https://api.opensea.io/api/v2/collection/boredapeyachtclub/nfts?next=LXBrPTIzMTM0Nzc1\n",
      "LXBrPTIzMTM0NzE3\n",
      "Requesting URL: https://api.opensea.io/api/v2/collection/boredapeyachtclub/nfts?next=LXBrPTIzMTM0NzE3\n",
      "LXBrPTIzMTM0NjU3\n",
      "Requesting URL: https://api.opensea.io/api/v2/collection/boredapeyachtclub/nfts?next=LXBrPTIzMTM0NjU3\n",
      "LXBrPTIzMTM0NTcy\n",
      "Requesting URL: https://api.opensea.io/api/v2/collection/boredapeyachtclub/nfts?next=LXBrPTIzMTM0NTcy\n",
      "LXBrPTIzMTM0NDky\n",
      "Requesting URL: https://api.opensea.io/api/v2/collection/boredapeyachtclub/nfts?next=LXBrPTIzMTM0NDky\n",
      "LXBrPTIzMTM0Mzkz\n",
      "Requesting URL: https://api.opensea.io/api/v2/collection/boredapeyachtclub/nfts?next=LXBrPTIzMTM0Mzkz\n",
      "LXBrPTIzMTM0Mjg3\n",
      "Requesting URL: https://api.opensea.io/api/v2/collection/boredapeyachtclub/nfts?next=LXBrPTIzMTM0Mjg3\n",
      "LXBrPTIzMTM0MjAx\n",
      "Requesting URL: https://api.opensea.io/api/v2/collection/boredapeyachtclub/nfts?next=LXBrPTIzMTM0MjAx\n",
      "LXBrPTIzMTM0MTA1\n",
      "Requesting URL: https://api.opensea.io/api/v2/collection/boredapeyachtclub/nfts?next=LXBrPTIzMTM0MTA1\n",
      "LXBrPTIzMTMzOTg4\n",
      "Requesting URL: https://api.opensea.io/api/v2/collection/boredapeyachtclub/nfts?next=LXBrPTIzMTMzOTg4\n",
      "LXBrPTIzMTMzODg3\n",
      "Requesting URL: https://api.opensea.io/api/v2/collection/boredapeyachtclub/nfts?next=LXBrPTIzMTMzODg3\n",
      "LXBrPTIzMTMzNzI0\n",
      "Requesting URL: https://api.opensea.io/api/v2/collection/boredapeyachtclub/nfts?next=LXBrPTIzMTMzNzI0\n",
      "LXBrPTIzMTMzNTk2\n",
      "Requesting URL: https://api.opensea.io/api/v2/collection/boredapeyachtclub/nfts?next=LXBrPTIzMTMzNTk2\n",
      "LXBrPTIzMTMzNTM4\n",
      "Requesting URL: https://api.opensea.io/api/v2/collection/boredapeyachtclub/nfts?next=LXBrPTIzMTMzNTM4\n",
      "LXBrPTIzMTMzMzU3\n",
      "Requesting URL: https://api.opensea.io/api/v2/collection/boredapeyachtclub/nfts?next=LXBrPTIzMTMzMzU3\n",
      "LXBrPTIzMTMzMjg4\n",
      "Requesting URL: https://api.opensea.io/api/v2/collection/boredapeyachtclub/nfts?next=LXBrPTIzMTMzMjg4\n",
      "LXBrPTIzMTMzMTk4\n",
      "Requesting URL: https://api.opensea.io/api/v2/collection/boredapeyachtclub/nfts?next=LXBrPTIzMTMzMTk4\n",
      "LXBrPTIzMTMzMTEz\n",
      "Requesting URL: https://api.opensea.io/api/v2/collection/boredapeyachtclub/nfts?next=LXBrPTIzMTMzMTEz\n",
      "LXBrPTIzMTMzMDM2\n",
      "Requesting URL: https://api.opensea.io/api/v2/collection/boredapeyachtclub/nfts?next=LXBrPTIzMTMzMDM2\n",
      "LXBrPTIzMTMyOTIz\n",
      "Requesting URL: https://api.opensea.io/api/v2/collection/boredapeyachtclub/nfts?next=LXBrPTIzMTMyOTIz\n",
      "LXBrPTIzMTMyODA0\n",
      "Requesting URL: https://api.opensea.io/api/v2/collection/boredapeyachtclub/nfts?next=LXBrPTIzMTMyODA0\n",
      "LXBrPTIzMTMyNzIy\n",
      "Requesting URL: https://api.opensea.io/api/v2/collection/boredapeyachtclub/nfts?next=LXBrPTIzMTMyNzIy\n",
      "LXBrPTIzMTMyNjQz\n",
      "Requesting URL: https://api.opensea.io/api/v2/collection/boredapeyachtclub/nfts?next=LXBrPTIzMTMyNjQz\n",
      "LXBrPTIzMTMyNTYz\n",
      "Requesting URL: https://api.opensea.io/api/v2/collection/boredapeyachtclub/nfts?next=LXBrPTIzMTMyNTYz\n",
      "LXBrPTIzMTMyNDg5\n",
      "Requesting URL: https://api.opensea.io/api/v2/collection/boredapeyachtclub/nfts?next=LXBrPTIzMTMyNDg5\n",
      "LXBrPTIzMTMyMzQ5\n",
      "Requesting URL: https://api.opensea.io/api/v2/collection/boredapeyachtclub/nfts?next=LXBrPTIzMTMyMzQ5\n",
      "LXBrPTIzMTMyMjEw\n",
      "Requesting URL: https://api.opensea.io/api/v2/collection/boredapeyachtclub/nfts?next=LXBrPTIzMTMyMjEw\n",
      "LXBrPTIzMTMyMDY5\n",
      "Requesting URL: https://api.opensea.io/api/v2/collection/boredapeyachtclub/nfts?next=LXBrPTIzMTMyMDY5\n",
      "LXBrPTIzMTMxOTA4\n",
      "Requesting URL: https://api.opensea.io/api/v2/collection/boredapeyachtclub/nfts?next=LXBrPTIzMTMxOTA4\n",
      "LXBrPTIzMTMxNzQ4\n",
      "Requesting URL: https://api.opensea.io/api/v2/collection/boredapeyachtclub/nfts?next=LXBrPTIzMTMxNzQ4\n",
      "LXBrPTIzMTMxNjM0\n",
      "Requesting URL: https://api.opensea.io/api/v2/collection/boredapeyachtclub/nfts?next=LXBrPTIzMTMxNjM0\n",
      "LXBrPTIzMTMxNTQ1\n",
      "Requesting URL: https://api.opensea.io/api/v2/collection/boredapeyachtclub/nfts?next=LXBrPTIzMTMxNTQ1\n",
      "LXBrPTIzMTMxNDQ3\n",
      "Requesting URL: https://api.opensea.io/api/v2/collection/boredapeyachtclub/nfts?next=LXBrPTIzMTMxNDQ3\n",
      "LXBrPTIzMTMxMzIz\n",
      "Requesting URL: https://api.opensea.io/api/v2/collection/boredapeyachtclub/nfts?next=LXBrPTIzMTMxMzIz\n",
      "LXBrPTIzMTMxMjE5\n",
      "Requesting URL: https://api.opensea.io/api/v2/collection/boredapeyachtclub/nfts?next=LXBrPTIzMTMxMjE5\n",
      "LXBrPTIzMTMwODky\n",
      "Requesting URL: https://api.opensea.io/api/v2/collection/boredapeyachtclub/nfts?next=LXBrPTIzMTMwODky\n",
      "LXBrPTIzMTMwNjgx\n",
      "Requesting URL: https://api.opensea.io/api/v2/collection/boredapeyachtclub/nfts?next=LXBrPTIzMTMwNjgx\n",
      "LXBrPTIzMTMwMjU5\n",
      "Requesting URL: https://api.opensea.io/api/v2/collection/boredapeyachtclub/nfts?next=LXBrPTIzMTMwMjU5\n",
      "LXBrPTIzMTI5OTY0\n",
      "Requesting URL: https://api.opensea.io/api/v2/collection/boredapeyachtclub/nfts?next=LXBrPTIzMTI5OTY0\n",
      "LXBrPTIzMTI5Mzcz\n",
      "Requesting URL: https://api.opensea.io/api/v2/collection/boredapeyachtclub/nfts?next=LXBrPTIzMTI5Mzcz\n",
      "LXBrPTIzMTI4NzYy\n",
      "Requesting URL: https://api.opensea.io/api/v2/collection/boredapeyachtclub/nfts?next=LXBrPTIzMTI4NzYy\n",
      "LXBrPTIzMTI4MjUy\n",
      "Requesting URL: https://api.opensea.io/api/v2/collection/boredapeyachtclub/nfts?next=LXBrPTIzMTI4MjUy\n",
      "LXBrPTIzMTI3NTEw\n",
      "Requesting URL: https://api.opensea.io/api/v2/collection/boredapeyachtclub/nfts?next=LXBrPTIzMTI3NTEw\n",
      "LXBrPTIzMTI2NDk2\n",
      "Requesting URL: https://api.opensea.io/api/v2/collection/boredapeyachtclub/nfts?next=LXBrPTIzMTI2NDk2\n",
      "LXBrPTIzMTI2MjU2\n",
      "Requesting URL: https://api.opensea.io/api/v2/collection/boredapeyachtclub/nfts?next=LXBrPTIzMTI2MjU2\n",
      "LXBrPTIzMTI1NzIx\n",
      "Requesting URL: https://api.opensea.io/api/v2/collection/boredapeyachtclub/nfts?next=LXBrPTIzMTI1NzIx\n",
      "LXBrPTIzMTI0NTAz\n",
      "Requesting URL: https://api.opensea.io/api/v2/collection/boredapeyachtclub/nfts?next=LXBrPTIzMTI0NTAz\n",
      "LXBrPTIzMTI0MDQ3\n",
      "Requesting URL: https://api.opensea.io/api/v2/collection/boredapeyachtclub/nfts?next=LXBrPTIzMTI0MDQ3\n",
      "LXBrPTIzMTIzNDUz\n",
      "Requesting URL: https://api.opensea.io/api/v2/collection/boredapeyachtclub/nfts?next=LXBrPTIzMTIzNDUz\n",
      "LXBrPTIzMTIyODQz\n",
      "Requesting URL: https://api.opensea.io/api/v2/collection/boredapeyachtclub/nfts?next=LXBrPTIzMTIyODQz\n",
      "LXBrPTIzMTIyMzE0\n",
      "Requesting URL: https://api.opensea.io/api/v2/collection/boredapeyachtclub/nfts?next=LXBrPTIzMTIyMzE0\n",
      "LXBrPTIzMTIxOTg2\n",
      "Requesting URL: https://api.opensea.io/api/v2/collection/boredapeyachtclub/nfts?next=LXBrPTIzMTIxOTg2\n",
      "LXBrPTIzMTIwNTU1\n",
      "Requesting URL: https://api.opensea.io/api/v2/collection/boredapeyachtclub/nfts?next=LXBrPTIzMTIwNTU1\n",
      "LXBrPTIzMTE5NDUz\n",
      "Requesting URL: https://api.opensea.io/api/v2/collection/boredapeyachtclub/nfts?next=LXBrPTIzMTE5NDUz\n",
      "LXBrPTIzMTE3NDg4\n",
      "Requesting URL: https://api.opensea.io/api/v2/collection/boredapeyachtclub/nfts?next=LXBrPTIzMTE3NDg4\n",
      "LXBrPTIzMTE2ODUx\n",
      "Requesting URL: https://api.opensea.io/api/v2/collection/boredapeyachtclub/nfts?next=LXBrPTIzMTE2ODUx\n",
      "LXBrPTIzMTE1Mjgz\n",
      "Requesting URL: https://api.opensea.io/api/v2/collection/boredapeyachtclub/nfts?next=LXBrPTIzMTE1Mjgz\n",
      "LXBrPTIzMTEzOTMy\n",
      "Requesting URL: https://api.opensea.io/api/v2/collection/boredapeyachtclub/nfts?next=LXBrPTIzMTEzOTMy\n",
      "LXBrPTIzMTEyMDcx\n",
      "Requesting URL: https://api.opensea.io/api/v2/collection/boredapeyachtclub/nfts?next=LXBrPTIzMTEyMDcx\n",
      "LXBrPTIzMTEwNDUx\n",
      "Requesting URL: https://api.opensea.io/api/v2/collection/boredapeyachtclub/nfts?next=LXBrPTIzMTEwNDUx\n",
      "LXBrPTIzMDk5Njcy\n",
      "Requesting URL: https://api.opensea.io/api/v2/collection/boredapeyachtclub/nfts?next=LXBrPTIzMDk5Njcy\n",
      "LXBrPTIzMDUxMzI3\n",
      "Requesting URL: https://api.opensea.io/api/v2/collection/boredapeyachtclub/nfts?next=LXBrPTIzMDUxMzI3\n",
      "LXBrPTIzMDM4NTI5\n",
      "Requesting URL: https://api.opensea.io/api/v2/collection/boredapeyachtclub/nfts?next=LXBrPTIzMDM4NTI5\n",
      "LXBrPTIyOTc1NjE0\n",
      "Requesting URL: https://api.opensea.io/api/v2/collection/boredapeyachtclub/nfts?next=LXBrPTIyOTc1NjE0\n",
      "LXBrPTIyODg2MjY2\n",
      "Requesting URL: https://api.opensea.io/api/v2/collection/boredapeyachtclub/nfts?next=LXBrPTIyODg2MjY2\n",
      "LXBrPTIyODUzMDMz\n",
      "Requesting URL: https://api.opensea.io/api/v2/collection/boredapeyachtclub/nfts?next=LXBrPTIyODUzMDMz\n",
      "LXBrPTIyNzI5NzAz\n",
      "Requesting URL: https://api.opensea.io/api/v2/collection/boredapeyachtclub/nfts?next=LXBrPTIyNzI5NzAz\n",
      "LXBrPTIyNzAxMjUx\n",
      "Requesting URL: https://api.opensea.io/api/v2/collection/boredapeyachtclub/nfts?next=LXBrPTIyNzAxMjUx\n",
      "LXBrPTIyNjQ2MTg2\n",
      "Requesting URL: https://api.opensea.io/api/v2/collection/boredapeyachtclub/nfts?next=LXBrPTIyNjQ2MTg2\n"
     ]
    }
   ],
   "source": [
    "# USER CHOOSES COLLECTION\n",
    "collection_slug = input(\"Enter the collection: \")\n",
    "APR = input(\"Enter your target APR: \")\n",
    "\n",
    "# API's\n",
    "get_collection_stats = f\"https://api.opensea.io/api/v2/collections/{collection_slug}/stats\"\n",
    "get_collection = f\"https://api.opensea.io/api/v2/collections/{collection_slug}\"\n",
    "get_events_by_collection = f\"https://api.opensea.io/api/v2/events/collection/{collection_slug}?event_type=sale\"\n",
    "get_nft_by_collection = f\"https://api.opensea.io/api/v2/collection/{collection_slug}/nfts\"\n",
    "get_traits = f\"https://api.opensea.io/api/v2/traits/{collection_slug}\"\n",
    "\n",
    "headers = {\"accept\": \"application/json\", \"x-api-key\": OPENSEA_API}\n",
    "\n",
    "collection_stats_json = fetch_api_data(get_collection_stats, headers)\n",
    "# collection_df = fetch_api_data(get_collection, headers)\n",
    "# traits_df = fetch_api_data(get_traits, headers)\n",
    "# \n",
    "# events_df = fetch_api_data_paginated(get_events_by_collection, headers, data_key='asset_events')\n",
    "# nft_df = fetch_api_data_paginated(get_nft_by_collection, headers, data_key='nfts')\n"
   ],
   "metadata": {
    "collapsed": false,
    "ExecuteTime": {
     "end_time": "2024-03-12T03:06:01.661066Z",
     "start_time": "2024-03-12T03:04:11.183147Z"
    }
   },
   "id": "d0b3df736497d799",
   "execution_count": 751
  },
  {
   "cell_type": "code",
   "outputs": [],
   "source": [
    "if collection_stats_json:\n",
    "    # Directly create a DataFrame for 'total' data\n",
    "    total_data = pd.DataFrame([collection_stats_json['total']])\n",
    "    \n",
    "    # Create a DataFrame for 'intervals' data\n",
    "    intervals_data = pd.DataFrame(collection_stats_json['intervals'])"
   ],
   "metadata": {
    "collapsed": false,
    "ExecuteTime": {
     "end_time": "2024-03-12T03:07:01.992146Z",
     "start_time": "2024-03-12T03:07:01.979194Z"
    }
   },
   "id": "e63fd190eba1f196",
   "execution_count": 754
  },
  {
   "cell_type": "code",
   "outputs": [
    {
     "data": {
      "text/plain": "         volume  sales  average_price  num_owners     market_cap  floor_price  \\\n0  1.487273e+06  46723        31.8317        5274  176759.757361        15.39   \n\n  floor_price_symbol  \n0                ETH  ",
      "text/html": "<div>\n<style scoped>\n    .dataframe tbody tr th:only-of-type {\n        vertical-align: middle;\n    }\n\n    .dataframe tbody tr th {\n        vertical-align: top;\n    }\n\n    .dataframe thead th {\n        text-align: right;\n    }\n</style>\n<table border=\"1\" class=\"dataframe\">\n  <thead>\n    <tr style=\"text-align: right;\">\n      <th></th>\n      <th>volume</th>\n      <th>sales</th>\n      <th>average_price</th>\n      <th>num_owners</th>\n      <th>market_cap</th>\n      <th>floor_price</th>\n      <th>floor_price_symbol</th>\n    </tr>\n  </thead>\n  <tbody>\n    <tr>\n      <th>0</th>\n      <td>1.487273e+06</td>\n      <td>46723</td>\n      <td>31.8317</td>\n      <td>5274</td>\n      <td>176759.757361</td>\n      <td>15.39</td>\n      <td>ETH</td>\n    </tr>\n  </tbody>\n</table>\n</div>"
     },
     "execution_count": 755,
     "metadata": {},
     "output_type": "execute_result"
    }
   ],
   "source": [
    "total_data"
   ],
   "metadata": {
    "collapsed": false,
    "ExecuteTime": {
     "end_time": "2024-03-12T03:07:29.275587Z",
     "start_time": "2024-03-12T03:07:29.241124Z"
    }
   },
   "id": "341ba79f775e79cc",
   "execution_count": 755
  },
  {
   "cell_type": "code",
   "outputs": [
    {
     "data": {
      "text/plain": "     interval      volume  volume_diff  volume_change  sales  sales_diff  \\\n0     one_day    866.3253         16.0       0.288992     54    0.421053   \n1   seven_day   7443.0744        243.0       0.980604    421    0.000000   \n2  thirty_day  25397.1528        590.0       0.652736   1213    0.000000   \n\n   average_price  \n0      16.043061  \n1      17.679512  \n2      20.937471  ",
      "text/html": "<div>\n<style scoped>\n    .dataframe tbody tr th:only-of-type {\n        vertical-align: middle;\n    }\n\n    .dataframe tbody tr th {\n        vertical-align: top;\n    }\n\n    .dataframe thead th {\n        text-align: right;\n    }\n</style>\n<table border=\"1\" class=\"dataframe\">\n  <thead>\n    <tr style=\"text-align: right;\">\n      <th></th>\n      <th>interval</th>\n      <th>volume</th>\n      <th>volume_diff</th>\n      <th>volume_change</th>\n      <th>sales</th>\n      <th>sales_diff</th>\n      <th>average_price</th>\n    </tr>\n  </thead>\n  <tbody>\n    <tr>\n      <th>0</th>\n      <td>one_day</td>\n      <td>866.3253</td>\n      <td>16.0</td>\n      <td>0.288992</td>\n      <td>54</td>\n      <td>0.421053</td>\n      <td>16.043061</td>\n    </tr>\n    <tr>\n      <th>1</th>\n      <td>seven_day</td>\n      <td>7443.0744</td>\n      <td>243.0</td>\n      <td>0.980604</td>\n      <td>421</td>\n      <td>0.000000</td>\n      <td>17.679512</td>\n    </tr>\n    <tr>\n      <th>2</th>\n      <td>thirty_day</td>\n      <td>25397.1528</td>\n      <td>590.0</td>\n      <td>0.652736</td>\n      <td>1213</td>\n      <td>0.000000</td>\n      <td>20.937471</td>\n    </tr>\n  </tbody>\n</table>\n</div>"
     },
     "execution_count": 756,
     "metadata": {},
     "output_type": "execute_result"
    }
   ],
   "source": [
    "intervals_data"
   ],
   "metadata": {
    "collapsed": false,
    "ExecuteTime": {
     "end_time": "2024-03-12T03:07:45.981223Z",
     "start_time": "2024-03-12T03:07:45.972504Z"
    }
   },
   "id": "a7aa9860e7e19ae",
   "execution_count": 756
  },
  {
   "cell_type": "code",
   "outputs": [],
   "source": [
    "# Ensure numeric columns are correctly typed\n",
    "numeric_cols_total = ['volume', 'sales', 'average_price', 'num_owners', 'market_cap', 'floor_price']\n",
    "total_data[numeric_cols_total] = total_data[numeric_cols_total].apply(pd.to_numeric, errors='coerce')\n"
   ],
   "metadata": {
    "collapsed": false,
    "ExecuteTime": {
     "end_time": "2024-03-12T03:16:20.355074Z",
     "start_time": "2024-03-12T03:16:20.348182Z"
    }
   },
   "id": "74dabcaa52b5f61f",
   "execution_count": 757
  },
  {
   "cell_type": "code",
   "outputs": [
    {
     "data": {
      "text/plain": "volume                False\nsales                 False\naverage_price         False\nnum_owners            False\nmarket_cap            False\nfloor_price           False\nfloor_price_symbol    False\ndtype: bool"
     },
     "execution_count": 758,
     "metadata": {},
     "output_type": "execute_result"
    }
   ],
   "source": [
    "total_data.isnull().any()"
   ],
   "metadata": {
    "collapsed": false,
    "ExecuteTime": {
     "end_time": "2024-03-12T03:16:52.175725Z",
     "start_time": "2024-03-12T03:16:52.162712Z"
    }
   },
   "id": "ba5d02309b2b3f7",
   "execution_count": 758
  },
  {
   "cell_type": "code",
   "outputs": [],
   "source": [
    "# Convert 'volume_change' and 'sales_diff' to numeric types, handling any errors\n",
    "numeric_cols_intervals = ['volume', 'volume_diff', 'volume_change', 'sales', 'sales_diff', 'average_price']\n",
    "intervals_data[numeric_cols_intervals] = intervals_data[numeric_cols_intervals].apply(pd.to_numeric, errors='coerce')"
   ],
   "metadata": {
    "collapsed": false,
    "ExecuteTime": {
     "end_time": "2024-03-12T03:18:26.354152Z",
     "start_time": "2024-03-12T03:18:26.349449Z"
    }
   },
   "id": "b3875fd90269477a",
   "execution_count": 759
  },
  {
   "cell_type": "code",
   "outputs": [
    {
     "data": {
      "text/plain": "interval         False\nvolume           False\nvolume_diff      False\nvolume_change    False\nsales            False\nsales_diff       False\naverage_price    False\ndtype: bool"
     },
     "execution_count": 760,
     "metadata": {},
     "output_type": "execute_result"
    }
   ],
   "source": [
    "intervals_data.isnull().any()"
   ],
   "metadata": {
    "collapsed": false,
    "ExecuteTime": {
     "end_time": "2024-03-12T03:19:19.028645Z",
     "start_time": "2024-03-12T03:19:19.022450Z"
    }
   },
   "id": "b0ab1a42b10ad3f9",
   "execution_count": 760
  },
  {
   "cell_type": "code",
   "outputs": [],
   "source": [
    "intervals_data['interval'] = intervals_data['interval'].astype('category')"
   ],
   "metadata": {
    "collapsed": false,
    "ExecuteTime": {
     "end_time": "2024-03-12T03:19:49.983239Z",
     "start_time": "2024-03-12T03:19:49.977820Z"
    }
   },
   "id": "f962ed7aa7fc107e",
   "execution_count": 761
  },
  {
   "cell_type": "code",
   "outputs": [],
   "source": [
    "intervals_data['volume_pct_change'] = intervals_data['volume'].pct_change() * 100\n",
    "intervals_data['sales_pct_change'] = intervals_data['sales'].pct_change() * 100"
   ],
   "metadata": {
    "collapsed": false,
    "ExecuteTime": {
     "end_time": "2024-03-12T03:27:15.143242Z",
     "start_time": "2024-03-12T03:27:15.137029Z"
    }
   },
   "id": "3cdb0df90418b4cc",
   "execution_count": 769
  },
  {
   "cell_type": "code",
   "outputs": [
    {
     "data": {
      "text/plain": "0           NaN\n1    759.154685\n2    241.218580\nName: volume_pct_change, dtype: float64"
     },
     "execution_count": 770,
     "metadata": {},
     "output_type": "execute_result"
    }
   ],
   "source": [
    "intervals_data['volume_pct_change']"
   ],
   "metadata": {
    "collapsed": false,
    "ExecuteTime": {
     "end_time": "2024-03-12T03:27:15.693672Z",
     "start_time": "2024-03-12T03:27:15.682766Z"
    }
   },
   "id": "27c11c1833410a2f",
   "execution_count": 770
  },
  {
   "cell_type": "code",
   "outputs": [
    {
     "data": {
      "text/plain": "0           NaN\n1    679.629630\n2    188.123515\nName: sales_pct_change, dtype: float64"
     },
     "execution_count": 771,
     "metadata": {},
     "output_type": "execute_result"
    }
   ],
   "source": [
    "intervals_data['sales_pct_change']"
   ],
   "metadata": {
    "collapsed": false,
    "ExecuteTime": {
     "end_time": "2024-03-12T03:27:16.851831Z",
     "start_time": "2024-03-12T03:27:16.843603Z"
    }
   },
   "id": "80fbe0eeec002a61",
   "execution_count": 771
  },
  {
   "cell_type": "code",
   "outputs": [],
   "source": [
    "collection_json = fetch_api_data(get_collection, headers)"
   ],
   "metadata": {
    "collapsed": false,
    "ExecuteTime": {
     "end_time": "2024-03-12T03:32:43.601125Z",
     "start_time": "2024-03-12T03:32:43.460168Z"
    }
   },
   "id": "8dedbb6514f93ee9",
   "execution_count": 772
  },
  {
   "cell_type": "code",
   "outputs": [],
   "source": [
    "# Assuming `data` is the JSON response dictionary you received from the API\n",
    "collection_data = {\n",
    "    \"collection\": collection_json[\"collection\"],\n",
    "    \"name\": collection_json[\"name\"],\n",
    "    \"description\": collection_json[\"description\"],\n",
    "    \"image_url\": collection_json[\"image_url\"],\n",
    "    \"banner_image_url\": collection_json[\"banner_image_url\"],\n",
    "    \"owner\": collection_json[\"owner\"],\n",
    "    \"safelist_status\": collection_json[\"safelist_status\"],\n",
    "    \"category\": collection_json[\"category\"],\n",
    "    \"is_disabled\": collection_json[\"is_disabled\"],\n",
    "    \"is_nsfw\": collection_json[\"is_nsfw\"],\n",
    "    \"trait_offers_enabled\": collection_json[\"trait_offers_enabled\"],\n",
    "    \"collection_offers_enabled\": collection_json[\"collection_offers_enabled\"],\n",
    "    \"opensea_url\": collection_json[\"opensea_url\"],\n",
    "    \"project_url\": collection_json[\"project_url\"],\n",
    "    \"wiki_url\": collection_json[\"wiki_url\"],\n",
    "    \"discord_url\": collection_json[\"discord_url\"],\n",
    "    \"telegram_url\": collection_json[\"telegram_url\"],\n",
    "    \"twitter_username\": collection_json[\"twitter_username\"],\n",
    "    \"instagram_username\": collection_json[\"instagram_username\"],\n",
    "    \"total_supply\": collection_json[\"total_supply\"],\n",
    "    \"created_date\": collection_json[\"created_date\"]\n",
    "}\n",
    "\n",
    "# Convert this dictionary to a DataFrame if needed\n",
    "collection_df = pd.DataFrame([collection_data])\n"
   ],
   "metadata": {
    "collapsed": false,
    "ExecuteTime": {
     "end_time": "2024-03-12T03:33:42.872744Z",
     "start_time": "2024-03-12T03:33:42.837711Z"
    }
   },
   "id": "42b020c3ca1ec4b3",
   "execution_count": 774
  },
  {
   "cell_type": "code",
   "outputs": [],
   "source": [
    "collection_df.drop(['image_url', 'banner_image_url', 'owner', 'safelist_status', 'category', 'is_disabled', 'is_nsfw', 'trait_offers_enabled', 'collection_offers_enabled', 'wiki_url', 'discord_url', 'telegram_url', 'twitter_username', 'instagram_username'], axis=1, inplace=True)"
   ],
   "metadata": {
    "collapsed": false,
    "ExecuteTime": {
     "end_time": "2024-03-12T04:24:58.037858Z",
     "start_time": "2024-03-12T04:24:58.007361Z"
    }
   },
   "id": "5e7288a223c178dd",
   "execution_count": 792
  },
  {
   "cell_type": "code",
   "outputs": [
    {
     "data": {
      "text/plain": "          collection                  name  \\\n0  boredapeyachtclub  Bored Ape Yacht Club   \n\n                                         description  \\\n0  The Bored Ape Yacht Club is a collection of 10...   \n\n                                       opensea_url  \\\n0  https://opensea.io/collection/boredapeyachtclub   \n\n                         project_url  total_supply created_date  \n0  http://www.boredapeyachtclub.com/          9998   2021-04-22  ",
      "text/html": "<div>\n<style scoped>\n    .dataframe tbody tr th:only-of-type {\n        vertical-align: middle;\n    }\n\n    .dataframe tbody tr th {\n        vertical-align: top;\n    }\n\n    .dataframe thead th {\n        text-align: right;\n    }\n</style>\n<table border=\"1\" class=\"dataframe\">\n  <thead>\n    <tr style=\"text-align: right;\">\n      <th></th>\n      <th>collection</th>\n      <th>name</th>\n      <th>description</th>\n      <th>opensea_url</th>\n      <th>project_url</th>\n      <th>total_supply</th>\n      <th>created_date</th>\n    </tr>\n  </thead>\n  <tbody>\n    <tr>\n      <th>0</th>\n      <td>boredapeyachtclub</td>\n      <td>Bored Ape Yacht Club</td>\n      <td>The Bored Ape Yacht Club is a collection of 10...</td>\n      <td>https://opensea.io/collection/boredapeyachtclub</td>\n      <td>http://www.boredapeyachtclub.com/</td>\n      <td>9998</td>\n      <td>2021-04-22</td>\n    </tr>\n  </tbody>\n</table>\n</div>"
     },
     "execution_count": 793,
     "metadata": {},
     "output_type": "execute_result"
    }
   ],
   "source": [
    "collection_df"
   ],
   "metadata": {
    "collapsed": false,
    "ExecuteTime": {
     "end_time": "2024-03-12T04:25:00.942031Z",
     "start_time": "2024-03-12T04:25:00.903253Z"
    }
   },
   "id": "190131bc96494685",
   "execution_count": 793
  },
  {
   "cell_type": "code",
   "outputs": [],
   "source": [
    "contracts_df = pd.json_normalize(collection_json, 'contracts')\n",
    "fees_df = pd.json_normalize(collection_json, 'fees')\n",
    "payment_tokens_df = pd.json_normalize(collection_json, 'payment_tokens')"
   ],
   "metadata": {
    "collapsed": false,
    "ExecuteTime": {
     "end_time": "2024-03-12T03:39:11.080537Z",
     "start_time": "2024-03-12T03:39:11.054437Z"
    }
   },
   "id": "f3b29f7adac456bb",
   "execution_count": 777
  },
  {
   "cell_type": "code",
   "outputs": [],
   "source": [
    "rarity_df = pd.DataFrame([collection_json['rarity']])"
   ],
   "metadata": {
    "collapsed": false,
    "ExecuteTime": {
     "end_time": "2024-03-12T03:39:33.790735Z",
     "start_time": "2024-03-12T03:39:33.774748Z"
    }
   },
   "id": "bf91bcd559ecb84a",
   "execution_count": 778
  },
  {
   "cell_type": "code",
   "outputs": [
    {
     "data": {
      "text/plain": "                                      address     chain\n0  0xbc4ca0eda7647a8ab7c2061c2e118a18a936f13d  ethereum",
      "text/html": "<div>\n<style scoped>\n    .dataframe tbody tr th:only-of-type {\n        vertical-align: middle;\n    }\n\n    .dataframe tbody tr th {\n        vertical-align: top;\n    }\n\n    .dataframe thead th {\n        text-align: right;\n    }\n</style>\n<table border=\"1\" class=\"dataframe\">\n  <thead>\n    <tr style=\"text-align: right;\">\n      <th></th>\n      <th>address</th>\n      <th>chain</th>\n    </tr>\n  </thead>\n  <tbody>\n    <tr>\n      <th>0</th>\n      <td>0xbc4ca0eda7647a8ab7c2061c2e118a18a936f13d</td>\n      <td>ethereum</td>\n    </tr>\n  </tbody>\n</table>\n</div>"
     },
     "execution_count": 779,
     "metadata": {},
     "output_type": "execute_result"
    }
   ],
   "source": [
    "contracts_df"
   ],
   "metadata": {
    "collapsed": false,
    "ExecuteTime": {
     "end_time": "2024-03-12T03:39:45.833708Z",
     "start_time": "2024-03-12T03:39:45.825514Z"
    }
   },
   "id": "36f3f0bac65127b0",
   "execution_count": 779
  },
  {
   "cell_type": "code",
   "outputs": [],
   "source": [
    "fees_df.drop(['fee', 'required'], axis=1, inplace=True)"
   ],
   "metadata": {
    "collapsed": false,
    "ExecuteTime": {
     "end_time": "2024-03-12T04:26:41.304471Z",
     "start_time": "2024-03-12T04:26:41.286393Z"
    }
   },
   "id": "75856191d0caa29",
   "execution_count": 794
  },
  {
   "cell_type": "code",
   "outputs": [
    {
     "data": {
      "text/plain": "                                    recipient\n0  0x0000a26b00c1f0df003000390027140000faa719\n1  0xa858ddc0445d8131dac4d1de01f834ffcba52ef1",
      "text/html": "<div>\n<style scoped>\n    .dataframe tbody tr th:only-of-type {\n        vertical-align: middle;\n    }\n\n    .dataframe tbody tr th {\n        vertical-align: top;\n    }\n\n    .dataframe thead th {\n        text-align: right;\n    }\n</style>\n<table border=\"1\" class=\"dataframe\">\n  <thead>\n    <tr style=\"text-align: right;\">\n      <th></th>\n      <th>recipient</th>\n    </tr>\n  </thead>\n  <tbody>\n    <tr>\n      <th>0</th>\n      <td>0x0000a26b00c1f0df003000390027140000faa719</td>\n    </tr>\n    <tr>\n      <th>1</th>\n      <td>0xa858ddc0445d8131dac4d1de01f834ffcba52ef1</td>\n    </tr>\n  </tbody>\n</table>\n</div>"
     },
     "execution_count": 795,
     "metadata": {},
     "output_type": "execute_result"
    }
   ],
   "source": [
    "fees_df"
   ],
   "metadata": {
    "collapsed": false,
    "ExecuteTime": {
     "end_time": "2024-03-12T04:26:42.241305Z",
     "start_time": "2024-03-12T04:26:42.218072Z"
    }
   },
   "id": "18b632c57116fcde",
   "execution_count": 795
  },
  {
   "cell_type": "code",
   "outputs": [],
   "source": [
    "payment_tokens_df.drop(['address'], axis=1, inplace=True)"
   ],
   "metadata": {
    "collapsed": false,
    "ExecuteTime": {
     "end_time": "2024-03-12T04:27:48.065348Z",
     "start_time": "2024-03-12T04:27:48.040982Z"
    }
   },
   "id": "35d7e19b4645aaf8",
   "execution_count": 796
  },
  {
   "cell_type": "code",
   "outputs": [
    {
     "data": {
      "text/plain": "  symbol     chain                                image           name  \\\n0    ETH  ethereum   https://raw.seadn.io/files/ETH.svg          Ether   \n1   WETH  ethereum  https://raw.seadn.io/files/WETH.svg  Wrapped Ether   \n2   USDC  ethereum  https://raw.seadn.io/files/USDC.svg       USD Coin   \n3    APE  ethereum   https://raw.seadn.io/files/APE.svg        ApeCoin   \n\n   decimals          eth_price                usd_price  \n0        18  1.000000000000000  4044.389999999999873000  \n1        18  1.000000000000000  4041.670000000000073000  \n2         6  0.000247140000000     0.999582000000000000  \n3        18  0.000570160000000     2.310000000000000000  ",
      "text/html": "<div>\n<style scoped>\n    .dataframe tbody tr th:only-of-type {\n        vertical-align: middle;\n    }\n\n    .dataframe tbody tr th {\n        vertical-align: top;\n    }\n\n    .dataframe thead th {\n        text-align: right;\n    }\n</style>\n<table border=\"1\" class=\"dataframe\">\n  <thead>\n    <tr style=\"text-align: right;\">\n      <th></th>\n      <th>symbol</th>\n      <th>chain</th>\n      <th>image</th>\n      <th>name</th>\n      <th>decimals</th>\n      <th>eth_price</th>\n      <th>usd_price</th>\n    </tr>\n  </thead>\n  <tbody>\n    <tr>\n      <th>0</th>\n      <td>ETH</td>\n      <td>ethereum</td>\n      <td>https://raw.seadn.io/files/ETH.svg</td>\n      <td>Ether</td>\n      <td>18</td>\n      <td>1.000000000000000</td>\n      <td>4044.389999999999873000</td>\n    </tr>\n    <tr>\n      <th>1</th>\n      <td>WETH</td>\n      <td>ethereum</td>\n      <td>https://raw.seadn.io/files/WETH.svg</td>\n      <td>Wrapped Ether</td>\n      <td>18</td>\n      <td>1.000000000000000</td>\n      <td>4041.670000000000073000</td>\n    </tr>\n    <tr>\n      <th>2</th>\n      <td>USDC</td>\n      <td>ethereum</td>\n      <td>https://raw.seadn.io/files/USDC.svg</td>\n      <td>USD Coin</td>\n      <td>6</td>\n      <td>0.000247140000000</td>\n      <td>0.999582000000000000</td>\n    </tr>\n    <tr>\n      <th>3</th>\n      <td>APE</td>\n      <td>ethereum</td>\n      <td>https://raw.seadn.io/files/APE.svg</td>\n      <td>ApeCoin</td>\n      <td>18</td>\n      <td>0.000570160000000</td>\n      <td>2.310000000000000000</td>\n    </tr>\n  </tbody>\n</table>\n</div>"
     },
     "execution_count": 797,
     "metadata": {},
     "output_type": "execute_result"
    }
   ],
   "source": [
    "payment_tokens_df"
   ],
   "metadata": {
    "collapsed": false,
    "ExecuteTime": {
     "end_time": "2024-03-12T04:27:48.903690Z",
     "start_time": "2024-03-12T04:27:48.890130Z"
    }
   },
   "id": "5ab40690b67b2dfb",
   "execution_count": 797
  },
  {
   "cell_type": "code",
   "outputs": [],
   "source": [
    "rarity_df.drop(['strategy_id', 'strategy_version', 'calculated_at'], axis=1, inplace=True)"
   ],
   "metadata": {
    "collapsed": false,
    "ExecuteTime": {
     "end_time": "2024-03-12T04:32:42.190781Z",
     "start_time": "2024-03-12T04:32:42.188466Z"
    }
   },
   "id": "d14e0a1c33415ab0",
   "execution_count": 798
  },
  {
   "cell_type": "code",
   "outputs": [
    {
     "data": {
      "text/plain": "   max_rank  tokens_scored\n0     10000          10000",
      "text/html": "<div>\n<style scoped>\n    .dataframe tbody tr th:only-of-type {\n        vertical-align: middle;\n    }\n\n    .dataframe tbody tr th {\n        vertical-align: top;\n    }\n\n    .dataframe thead th {\n        text-align: right;\n    }\n</style>\n<table border=\"1\" class=\"dataframe\">\n  <thead>\n    <tr style=\"text-align: right;\">\n      <th></th>\n      <th>max_rank</th>\n      <th>tokens_scored</th>\n    </tr>\n  </thead>\n  <tbody>\n    <tr>\n      <th>0</th>\n      <td>10000</td>\n      <td>10000</td>\n    </tr>\n  </tbody>\n</table>\n</div>"
     },
     "execution_count": 799,
     "metadata": {},
     "output_type": "execute_result"
    }
   ],
   "source": [
    "rarity_df"
   ],
   "metadata": {
    "collapsed": false,
    "ExecuteTime": {
     "end_time": "2024-03-12T04:32:43.243450Z",
     "start_time": "2024-03-12T04:32:43.216071Z"
    }
   },
   "id": "58216a38e20078e8",
   "execution_count": 799
  },
  {
   "cell_type": "code",
   "outputs": [
    {
     "data": {
      "text/plain": "collection      False\nname            False\ndescription     False\nopensea_url     False\nproject_url     False\ntotal_supply    False\ncreated_date    False\ndtype: bool"
     },
     "execution_count": 800,
     "metadata": {},
     "output_type": "execute_result"
    }
   ],
   "source": [
    "collection_df.isnull().any()"
   ],
   "metadata": {
    "collapsed": false,
    "ExecuteTime": {
     "end_time": "2024-03-12T04:33:02.406802Z",
     "start_time": "2024-03-12T04:33:02.377608Z"
    }
   },
   "id": "8b8be3afc456492f",
   "execution_count": 800
  },
  {
   "cell_type": "code",
   "outputs": [
    {
     "data": {
      "text/plain": "max_rank         False\ntokens_scored    False\ndtype: bool"
     },
     "execution_count": 801,
     "metadata": {},
     "output_type": "execute_result"
    }
   ],
   "source": [
    "rarity_df.isnull().any()\n"
   ],
   "metadata": {
    "collapsed": false,
    "ExecuteTime": {
     "end_time": "2024-03-12T04:33:08.167209Z",
     "start_time": "2024-03-12T04:33:08.126463Z"
    }
   },
   "id": "2bb04387d6817f2f",
   "execution_count": 801
  },
  {
   "cell_type": "code",
   "outputs": [
    {
     "data": {
      "text/plain": "symbol       False\nchain        False\nimage        False\nname         False\ndecimals     False\neth_price    False\nusd_price    False\ndtype: bool"
     },
     "execution_count": 802,
     "metadata": {},
     "output_type": "execute_result"
    }
   ],
   "source": [
    "payment_tokens_df.isnull().any()\n"
   ],
   "metadata": {
    "collapsed": false,
    "ExecuteTime": {
     "end_time": "2024-03-12T04:33:09.352652Z",
     "start_time": "2024-03-12T04:33:09.322701Z"
    }
   },
   "id": "f9df70184e0d7fa3",
   "execution_count": 802
  },
  {
   "cell_type": "code",
   "outputs": [
    {
     "data": {
      "text/plain": "collection      False\nname            False\ndescription     False\nopensea_url     False\nproject_url     False\ntotal_supply    False\ncreated_date    False\ndtype: bool"
     },
     "execution_count": 803,
     "metadata": {},
     "output_type": "execute_result"
    }
   ],
   "source": [
    "collection_df.isnull().any()\n"
   ],
   "metadata": {
    "collapsed": false,
    "ExecuteTime": {
     "end_time": "2024-03-12T04:33:10.379125Z",
     "start_time": "2024-03-12T04:33:10.347899Z"
    }
   },
   "id": "c31f97d877344c2c",
   "execution_count": 803
  },
  {
   "cell_type": "code",
   "outputs": [
    {
     "data": {
      "text/plain": "recipient    False\ndtype: bool"
     },
     "execution_count": 804,
     "metadata": {},
     "output_type": "execute_result"
    }
   ],
   "source": [
    "fees_df.isnull().any()"
   ],
   "metadata": {
    "collapsed": false,
    "ExecuteTime": {
     "end_time": "2024-03-12T04:33:11.288075Z",
     "start_time": "2024-03-12T04:33:11.257950Z"
    }
   },
   "id": "c783008cf4260db4",
   "execution_count": 804
  },
  {
   "cell_type": "code",
   "outputs": [
    {
     "data": {
      "text/plain": "address    False\nchain      False\ndtype: bool"
     },
     "execution_count": 805,
     "metadata": {},
     "output_type": "execute_result"
    }
   ],
   "source": [
    "contracts_df.isnull().any()"
   ],
   "metadata": {
    "collapsed": false,
    "ExecuteTime": {
     "end_time": "2024-03-12T04:33:13.475841Z",
     "start_time": "2024-03-12T04:33:13.433619Z"
    }
   },
   "id": "62a2c1a1754230c6",
   "execution_count": 805
  },
  {
   "cell_type": "code",
   "outputs": [],
   "source": [],
   "metadata": {
    "collapsed": false
   },
   "id": "26c151d17e21c8d"
  },
  {
   "cell_type": "code",
   "outputs": [],
   "source": [],
   "metadata": {
    "collapsed": false
   },
   "id": "f647c0258096b2fb"
  },
  {
   "cell_type": "code",
   "outputs": [
    {
     "ename": "KeyError",
     "evalue": "'common_key'",
     "output_type": "error",
     "traceback": [
      "\u001B[0;31m---------------------------------------------------------------------------\u001B[0m",
      "\u001B[0;31mKeyError\u001B[0m                                  Traceback (most recent call last)",
      "\u001B[0;32m/var/folders/0j/1_78tq417nzb_dxcn5h3k6h40000gn/T/ipykernel_31108/2107029057.py\u001B[0m in \u001B[0;36m?\u001B[0;34m()\u001B[0m\n\u001B[0;32m----> 1\u001B[0;31m \u001B[0mmerged_df\u001B[0m \u001B[0;34m=\u001B[0m \u001B[0mcollection_df\u001B[0m\u001B[0;34m.\u001B[0m\u001B[0mmerge\u001B[0m\u001B[0;34m(\u001B[0m\u001B[0mpayment_tokens_df\u001B[0m\u001B[0;34m,\u001B[0m \u001B[0mon\u001B[0m\u001B[0;34m=\u001B[0m\u001B[0;34m\"common_key\"\u001B[0m\u001B[0;34m,\u001B[0m \u001B[0mhow\u001B[0m\u001B[0;34m=\u001B[0m\u001B[0;34m\"left\"\u001B[0m\u001B[0;34m)\u001B[0m\u001B[0;34m\u001B[0m\u001B[0;34m\u001B[0m\u001B[0m\n\u001B[0m",
      "\u001B[0;32m~/miniconda3/lib/python3.11/site-packages/pandas/core/frame.py\u001B[0m in \u001B[0;36m?\u001B[0;34m(self, right, how, on, left_on, right_on, left_index, right_index, sort, suffixes, copy, indicator, validate)\u001B[0m\n\u001B[1;32m  10483\u001B[0m         \u001B[0mvalidate\u001B[0m\u001B[0;34m:\u001B[0m \u001B[0mMergeValidate\u001B[0m \u001B[0;34m|\u001B[0m \u001B[0;32mNone\u001B[0m \u001B[0;34m=\u001B[0m \u001B[0;32mNone\u001B[0m\u001B[0;34m,\u001B[0m\u001B[0;34m\u001B[0m\u001B[0;34m\u001B[0m\u001B[0m\n\u001B[1;32m  10484\u001B[0m     ) -> DataFrame:\n\u001B[1;32m  10485\u001B[0m         \u001B[0;32mfrom\u001B[0m \u001B[0mpandas\u001B[0m\u001B[0;34m.\u001B[0m\u001B[0mcore\u001B[0m\u001B[0;34m.\u001B[0m\u001B[0mreshape\u001B[0m\u001B[0;34m.\u001B[0m\u001B[0mmerge\u001B[0m \u001B[0;32mimport\u001B[0m \u001B[0mmerge\u001B[0m\u001B[0;34m\u001B[0m\u001B[0;34m\u001B[0m\u001B[0m\n\u001B[1;32m  10486\u001B[0m \u001B[0;34m\u001B[0m\u001B[0m\n\u001B[0;32m> 10487\u001B[0;31m         return merge(\n\u001B[0m\u001B[1;32m  10488\u001B[0m             \u001B[0mself\u001B[0m\u001B[0;34m,\u001B[0m\u001B[0;34m\u001B[0m\u001B[0;34m\u001B[0m\u001B[0m\n\u001B[1;32m  10489\u001B[0m             \u001B[0mright\u001B[0m\u001B[0;34m,\u001B[0m\u001B[0;34m\u001B[0m\u001B[0;34m\u001B[0m\u001B[0m\n\u001B[1;32m  10490\u001B[0m             \u001B[0mhow\u001B[0m\u001B[0;34m=\u001B[0m\u001B[0mhow\u001B[0m\u001B[0;34m,\u001B[0m\u001B[0;34m\u001B[0m\u001B[0;34m\u001B[0m\u001B[0m\n",
      "\u001B[0;32m~/miniconda3/lib/python3.11/site-packages/pandas/core/reshape/merge.py\u001B[0m in \u001B[0;36m?\u001B[0;34m(left, right, how, on, left_on, right_on, left_index, right_index, sort, suffixes, copy, indicator, validate)\u001B[0m\n\u001B[1;32m    165\u001B[0m             \u001B[0mvalidate\u001B[0m\u001B[0;34m=\u001B[0m\u001B[0mvalidate\u001B[0m\u001B[0;34m,\u001B[0m\u001B[0;34m\u001B[0m\u001B[0;34m\u001B[0m\u001B[0m\n\u001B[1;32m    166\u001B[0m             \u001B[0mcopy\u001B[0m\u001B[0;34m=\u001B[0m\u001B[0mcopy\u001B[0m\u001B[0;34m,\u001B[0m\u001B[0;34m\u001B[0m\u001B[0;34m\u001B[0m\u001B[0m\n\u001B[1;32m    167\u001B[0m         )\n\u001B[1;32m    168\u001B[0m     \u001B[0;32melse\u001B[0m\u001B[0;34m:\u001B[0m\u001B[0;34m\u001B[0m\u001B[0;34m\u001B[0m\u001B[0m\n\u001B[0;32m--> 169\u001B[0;31m         op = _MergeOperation(\n\u001B[0m\u001B[1;32m    170\u001B[0m             \u001B[0mleft_df\u001B[0m\u001B[0;34m,\u001B[0m\u001B[0;34m\u001B[0m\u001B[0;34m\u001B[0m\u001B[0m\n\u001B[1;32m    171\u001B[0m             \u001B[0mright_df\u001B[0m\u001B[0;34m,\u001B[0m\u001B[0;34m\u001B[0m\u001B[0;34m\u001B[0m\u001B[0m\n\u001B[1;32m    172\u001B[0m             \u001B[0mhow\u001B[0m\u001B[0;34m=\u001B[0m\u001B[0mhow\u001B[0m\u001B[0;34m,\u001B[0m\u001B[0;34m\u001B[0m\u001B[0;34m\u001B[0m\u001B[0m\n",
      "\u001B[0;32m~/miniconda3/lib/python3.11/site-packages/pandas/core/reshape/merge.py\u001B[0m in \u001B[0;36m?\u001B[0;34m(self, left, right, how, on, left_on, right_on, left_index, right_index, sort, suffixes, indicator, validate)\u001B[0m\n\u001B[1;32m    787\u001B[0m             \u001B[0mself\u001B[0m\u001B[0;34m.\u001B[0m\u001B[0mright_join_keys\u001B[0m\u001B[0;34m,\u001B[0m\u001B[0;34m\u001B[0m\u001B[0;34m\u001B[0m\u001B[0m\n\u001B[1;32m    788\u001B[0m             \u001B[0mself\u001B[0m\u001B[0;34m.\u001B[0m\u001B[0mjoin_names\u001B[0m\u001B[0;34m,\u001B[0m\u001B[0;34m\u001B[0m\u001B[0;34m\u001B[0m\u001B[0m\n\u001B[1;32m    789\u001B[0m             \u001B[0mleft_drop\u001B[0m\u001B[0;34m,\u001B[0m\u001B[0;34m\u001B[0m\u001B[0;34m\u001B[0m\u001B[0m\n\u001B[1;32m    790\u001B[0m             \u001B[0mright_drop\u001B[0m\u001B[0;34m,\u001B[0m\u001B[0;34m\u001B[0m\u001B[0;34m\u001B[0m\u001B[0m\n\u001B[0;32m--> 791\u001B[0;31m         ) = self._get_merge_keys()\n\u001B[0m\u001B[1;32m    792\u001B[0m \u001B[0;34m\u001B[0m\u001B[0m\n\u001B[1;32m    793\u001B[0m         \u001B[0;32mif\u001B[0m \u001B[0mleft_drop\u001B[0m\u001B[0;34m:\u001B[0m\u001B[0;34m\u001B[0m\u001B[0;34m\u001B[0m\u001B[0m\n\u001B[1;32m    794\u001B[0m             \u001B[0mself\u001B[0m\u001B[0;34m.\u001B[0m\u001B[0mleft\u001B[0m \u001B[0;34m=\u001B[0m \u001B[0mself\u001B[0m\u001B[0;34m.\u001B[0m\u001B[0mleft\u001B[0m\u001B[0;34m.\u001B[0m\u001B[0m_drop_labels_or_levels\u001B[0m\u001B[0;34m(\u001B[0m\u001B[0mleft_drop\u001B[0m\u001B[0;34m)\u001B[0m\u001B[0;34m\u001B[0m\u001B[0;34m\u001B[0m\u001B[0m\n",
      "\u001B[0;32m~/miniconda3/lib/python3.11/site-packages/pandas/core/reshape/merge.py\u001B[0m in \u001B[0;36m?\u001B[0;34m(self)\u001B[0m\n\u001B[1;32m   1265\u001B[0m                         \u001B[0;31m# Then we're either Hashable or a wrong-length arraylike,\u001B[0m\u001B[0;34m\u001B[0m\u001B[0;34m\u001B[0m\u001B[0m\n\u001B[1;32m   1266\u001B[0m                         \u001B[0;31m#  the latter of which will raise\u001B[0m\u001B[0;34m\u001B[0m\u001B[0;34m\u001B[0m\u001B[0m\n\u001B[1;32m   1267\u001B[0m                         \u001B[0mrk\u001B[0m \u001B[0;34m=\u001B[0m \u001B[0mcast\u001B[0m\u001B[0;34m(\u001B[0m\u001B[0mHashable\u001B[0m\u001B[0;34m,\u001B[0m \u001B[0mrk\u001B[0m\u001B[0;34m)\u001B[0m\u001B[0;34m\u001B[0m\u001B[0;34m\u001B[0m\u001B[0m\n\u001B[1;32m   1268\u001B[0m                         \u001B[0;32mif\u001B[0m \u001B[0mrk\u001B[0m \u001B[0;32mis\u001B[0m \u001B[0;32mnot\u001B[0m \u001B[0;32mNone\u001B[0m\u001B[0;34m:\u001B[0m\u001B[0;34m\u001B[0m\u001B[0;34m\u001B[0m\u001B[0m\n\u001B[0;32m-> 1269\u001B[0;31m                             \u001B[0mright_keys\u001B[0m\u001B[0;34m.\u001B[0m\u001B[0mappend\u001B[0m\u001B[0;34m(\u001B[0m\u001B[0mright\u001B[0m\u001B[0;34m.\u001B[0m\u001B[0m_get_label_or_level_values\u001B[0m\u001B[0;34m(\u001B[0m\u001B[0mrk\u001B[0m\u001B[0;34m)\u001B[0m\u001B[0;34m)\u001B[0m\u001B[0;34m\u001B[0m\u001B[0;34m\u001B[0m\u001B[0m\n\u001B[0m\u001B[1;32m   1270\u001B[0m                         \u001B[0;32melse\u001B[0m\u001B[0;34m:\u001B[0m\u001B[0;34m\u001B[0m\u001B[0;34m\u001B[0m\u001B[0m\n\u001B[1;32m   1271\u001B[0m                             \u001B[0;31m# work-around for merge_asof(right_index=True)\u001B[0m\u001B[0;34m\u001B[0m\u001B[0;34m\u001B[0m\u001B[0m\n\u001B[1;32m   1272\u001B[0m                             \u001B[0mright_keys\u001B[0m\u001B[0;34m.\u001B[0m\u001B[0mappend\u001B[0m\u001B[0;34m(\u001B[0m\u001B[0mright\u001B[0m\u001B[0;34m.\u001B[0m\u001B[0mindex\u001B[0m\u001B[0;34m.\u001B[0m\u001B[0m_values\u001B[0m\u001B[0;34m)\u001B[0m\u001B[0;34m\u001B[0m\u001B[0;34m\u001B[0m\u001B[0m\n",
      "\u001B[0;32m~/miniconda3/lib/python3.11/site-packages/pandas/core/generic.py\u001B[0m in \u001B[0;36m?\u001B[0;34m(self, key, axis)\u001B[0m\n\u001B[1;32m   1840\u001B[0m             \u001B[0mvalues\u001B[0m \u001B[0;34m=\u001B[0m \u001B[0mself\u001B[0m\u001B[0;34m.\u001B[0m\u001B[0mxs\u001B[0m\u001B[0;34m(\u001B[0m\u001B[0mkey\u001B[0m\u001B[0;34m,\u001B[0m \u001B[0maxis\u001B[0m\u001B[0;34m=\u001B[0m\u001B[0mother_axes\u001B[0m\u001B[0;34m[\u001B[0m\u001B[0;36m0\u001B[0m\u001B[0;34m]\u001B[0m\u001B[0;34m)\u001B[0m\u001B[0;34m.\u001B[0m\u001B[0m_values\u001B[0m\u001B[0;34m\u001B[0m\u001B[0;34m\u001B[0m\u001B[0m\n\u001B[1;32m   1841\u001B[0m         \u001B[0;32melif\u001B[0m \u001B[0mself\u001B[0m\u001B[0;34m.\u001B[0m\u001B[0m_is_level_reference\u001B[0m\u001B[0;34m(\u001B[0m\u001B[0mkey\u001B[0m\u001B[0;34m,\u001B[0m \u001B[0maxis\u001B[0m\u001B[0;34m=\u001B[0m\u001B[0maxis\u001B[0m\u001B[0;34m)\u001B[0m\u001B[0;34m:\u001B[0m\u001B[0;34m\u001B[0m\u001B[0;34m\u001B[0m\u001B[0m\n\u001B[1;32m   1842\u001B[0m             \u001B[0mvalues\u001B[0m \u001B[0;34m=\u001B[0m \u001B[0mself\u001B[0m\u001B[0;34m.\u001B[0m\u001B[0maxes\u001B[0m\u001B[0;34m[\u001B[0m\u001B[0maxis\u001B[0m\u001B[0;34m]\u001B[0m\u001B[0;34m.\u001B[0m\u001B[0mget_level_values\u001B[0m\u001B[0;34m(\u001B[0m\u001B[0mkey\u001B[0m\u001B[0;34m)\u001B[0m\u001B[0;34m.\u001B[0m\u001B[0m_values\u001B[0m\u001B[0;34m\u001B[0m\u001B[0;34m\u001B[0m\u001B[0m\n\u001B[1;32m   1843\u001B[0m         \u001B[0;32melse\u001B[0m\u001B[0;34m:\u001B[0m\u001B[0;34m\u001B[0m\u001B[0;34m\u001B[0m\u001B[0m\n\u001B[0;32m-> 1844\u001B[0;31m             \u001B[0;32mraise\u001B[0m \u001B[0mKeyError\u001B[0m\u001B[0;34m(\u001B[0m\u001B[0mkey\u001B[0m\u001B[0;34m)\u001B[0m\u001B[0;34m\u001B[0m\u001B[0;34m\u001B[0m\u001B[0m\n\u001B[0m\u001B[1;32m   1845\u001B[0m \u001B[0;34m\u001B[0m\u001B[0m\n\u001B[1;32m   1846\u001B[0m         \u001B[0;31m# Check for duplicates\u001B[0m\u001B[0;34m\u001B[0m\u001B[0;34m\u001B[0m\u001B[0m\n\u001B[1;32m   1847\u001B[0m         \u001B[0;32mif\u001B[0m \u001B[0mvalues\u001B[0m\u001B[0;34m.\u001B[0m\u001B[0mndim\u001B[0m \u001B[0;34m>\u001B[0m \u001B[0;36m1\u001B[0m\u001B[0;34m:\u001B[0m\u001B[0;34m\u001B[0m\u001B[0;34m\u001B[0m\u001B[0m\n",
      "\u001B[0;31mKeyError\u001B[0m: 'common_key'"
     ]
    }
   ],
   "source": [
    "merged_df = collection_df.merge(payment_tokens_df, on=\"common_key\", how=\"left\")"
   ],
   "metadata": {
    "collapsed": false,
    "ExecuteTime": {
     "end_time": "2024-03-12T04:36:30.703835Z",
     "start_time": "2024-03-12T04:36:30.628445Z"
    }
   },
   "id": "dee9d9c81d2a64a0",
   "execution_count": 806
  },
  {
   "cell_type": "code",
   "outputs": [],
   "source": [],
   "metadata": {
    "collapsed": false
   },
   "id": "b89b444c6b978a31"
  },
  {
   "cell_type": "code",
   "outputs": [],
   "source": [
    "events_df['nft_identifier'] = events_df['nft.identifier']"
   ],
   "metadata": {
    "collapsed": false,
    "ExecuteTime": {
     "end_time": "2024-03-11T23:37:44.721359Z",
     "start_time": "2024-03-11T23:37:44.680600Z"
    }
   },
   "id": "3af9bfcef44bf640",
   "execution_count": 690
  },
  {
   "cell_type": "code",
   "outputs": [
    {
     "name": "stdout",
     "output_type": "stream",
     "text": [
      "0     4933\n",
      "1     4162\n",
      "2     4933\n",
      "3     1435\n",
      "4     5726\n",
      "5     2779\n",
      "6     8975\n",
      "7     1367\n",
      "8     8088\n",
      "9     2779\n",
      "10    6947\n",
      "11    7216\n",
      "12    4527\n",
      "13    8329\n",
      "14    3555\n",
      "15    1367\n",
      "16    9514\n",
      "17    4338\n",
      "18     147\n",
      "19    6932\n",
      "20    1636\n",
      "21    4858\n",
      "22     536\n",
      "23    4855\n",
      "24    6774\n",
      "25    3004\n",
      "26     340\n",
      "27    3900\n",
      "28    6935\n",
      "29    8518\n",
      "30    8722\n",
      "31     226\n",
      "32    7424\n",
      "33    7782\n",
      "34    6491\n",
      "35    7844\n",
      "36    9084\n",
      "37     536\n",
      "38    3827\n",
      "39    6523\n",
      "40    8772\n",
      "41    1807\n",
      "42    9084\n",
      "43    8720\n",
      "44    5662\n",
      "45    3877\n",
      "46    6186\n",
      "47    3967\n",
      "48    2316\n",
      "49    1807\n",
      "Name: nft_identifier, dtype: object\n"
     ]
    }
   ],
   "source": [
    "print(events_df['nft_identifier'])"
   ],
   "metadata": {
    "collapsed": false,
    "ExecuteTime": {
     "end_time": "2024-03-11T23:38:07.095216Z",
     "start_time": "2024-03-11T23:38:07.067536Z"
    }
   },
   "id": "2560766d808210fd",
   "execution_count": 691
  },
  {
   "cell_type": "code",
   "outputs": [],
   "source": [
    "collection_stats_df = collection_stats_df.drop(columns=['intervals'])\n",
    "\n",
    "# Removing duplicates\n",
    "collection_stats_df.drop_duplicates(inplace=True)\n",
    "\n",
    "# Handling missing values for 'total.average_price'\n",
    "collection_stats_df['total.average_price'].fillna(collection_stats_df['total.average_price'].median(), inplace=True)\n",
    "\n",
    "# Converting data types for 'total.sales'\n",
    "collection_stats_df['total.sales'] = collection_stats_df['total.sales'].astype(int)\n",
    "\n"
   ],
   "metadata": {
    "collapsed": false,
    "ExecuteTime": {
     "end_time": "2024-03-11T22:46:20.029092Z",
     "start_time": "2024-03-11T22:46:20.025336Z"
    }
   },
   "id": "a06d331a75eb2126",
   "execution_count": 639
  },
  {
   "cell_type": "code",
   "outputs": [
    {
     "name": "stdout",
     "output_type": "stream",
     "text": [
      "Index(['collection', 'name', 'description', 'image_url', 'banner_image_url',\n",
      "       'owner', 'safelist_status', 'category', 'is_disabled', 'is_nsfw',\n",
      "       'trait_offers_enabled', 'collection_offers_enabled', 'opensea_url',\n",
      "       'project_url', 'wiki_url', 'discord_url', 'telegram_url',\n",
      "       'twitter_username', 'instagram_username', 'contracts', 'editors',\n",
      "       'fees', 'payment_tokens', 'total_supply', 'created_date',\n",
      "       'rarity.strategy_id', 'rarity.strategy_version', 'rarity.calculated_at',\n",
      "       'rarity.max_rank', 'rarity.tokens_scored'],\n",
      "      dtype='object')\n"
     ]
    }
   ],
   "source": [
    "print(collection_df.columns)\n"
   ],
   "metadata": {
    "collapsed": false,
    "ExecuteTime": {
     "end_time": "2024-03-11T22:46:20.591509Z",
     "start_time": "2024-03-11T22:46:20.582223Z"
    }
   },
   "id": "243953c9446e1c9c",
   "execution_count": 640
  },
  {
   "cell_type": "code",
   "outputs": [],
   "source": [
    "# Fill missing text fields with an empty string\n",
    "text_columns = ['description', 'image_url', 'banner_image_url', 'project_url', \n",
    "                'wiki_url', 'discord_url', 'telegram_url', 'twitter_username', \n",
    "                'instagram_username']\n",
    "collection_df[text_columns] = collection_df[text_columns].fillna('')\n",
    "\n",
    "# Convert boolean fields\n",
    "boolean_columns = ['is_disabled', 'is_nsfw', 'trait_offers_enabled', 'collection_offers_enabled']\n",
    "collection_df[boolean_columns] = collection_df[boolean_columns].astype(bool)\n",
    "\n",
    "# Convert 'created_date' to datetime\n",
    "collection_df['created_date'] = pd.to_datetime(collection_df['created_date'])"
   ],
   "metadata": {
    "collapsed": false,
    "ExecuteTime": {
     "end_time": "2024-03-11T22:46:21.146607Z",
     "start_time": "2024-03-11T22:46:21.139453Z"
    }
   },
   "id": "e448702b31ee0133",
   "execution_count": 641
  },
  {
   "cell_type": "code",
   "outputs": [],
   "source": [
    "# Extract contract addresses as a comma-separated string\n",
    "collection_df['contract_addresses'] = collection_df['contracts'].apply(lambda x: ', '.join([contract['address'] for contract in x]) if isinstance(x, list) else '')"
   ],
   "metadata": {
    "collapsed": false,
    "ExecuteTime": {
     "end_time": "2024-03-11T22:46:21.865802Z",
     "start_time": "2024-03-11T22:46:21.844326Z"
    }
   },
   "id": "7c7fdd0dbbfde786",
   "execution_count": 642
  },
  {
   "cell_type": "code",
   "outputs": [
    {
     "data": {
      "text/plain": "0   2021-04-22\nName: created_date, dtype: datetime64[ns]"
     },
     "execution_count": 643,
     "metadata": {},
     "output_type": "execute_result"
    }
   ],
   "source": [
    "collection_df['created_date']"
   ],
   "metadata": {
    "collapsed": false,
    "ExecuteTime": {
     "end_time": "2024-03-11T22:46:22.822069Z",
     "start_time": "2024-03-11T22:46:22.774255Z"
    }
   },
   "id": "7ed6f209995eb44c",
   "execution_count": 643
  },
  {
   "cell_type": "code",
   "outputs": [],
   "source": [
    "# Example: Summarizing the fees by calculating the total fees\n",
    "collection_df['total_fees'] = collection_df['fees'].apply(lambda x: sum(fee['fee'] for fee in x) if isinstance(x, list) else 0)\n",
    "\n",
    "# Example: Extracting the first payment token's symbol as representative\n",
    "collection_df['primary_payment_token'] = collection_df['payment_tokens'].apply(lambda x: x[0]['symbol'] if isinstance(x, list) and len(x) > 0 else '')"
   ],
   "metadata": {
    "collapsed": false,
    "ExecuteTime": {
     "end_time": "2024-03-11T22:46:23.241268Z",
     "start_time": "2024-03-11T22:46:23.228413Z"
    }
   },
   "id": "b4bf22af8b7cf02a",
   "execution_count": 644
  },
  {
   "cell_type": "code",
   "outputs": [
    {
     "data": {
      "text/plain": "0    3.5\nName: total_fees, dtype: float64"
     },
     "execution_count": 645,
     "metadata": {},
     "output_type": "execute_result"
    }
   ],
   "source": [
    "collection_df['total_fees']"
   ],
   "metadata": {
    "collapsed": false,
    "ExecuteTime": {
     "end_time": "2024-03-11T22:46:23.849018Z",
     "start_time": "2024-03-11T22:46:23.842556Z"
    }
   },
   "id": "4285511928e179f3",
   "execution_count": 645
  },
  {
   "cell_type": "code",
   "outputs": [],
   "source": [
    "# Check if 'rarity' key exists and extract information, else set to default values\n",
    "collection_df['rarity.strategy_version'] = collection_df.apply(lambda row: row['rarity'].get('strategy_version') if 'rarity' in row and row['rarity'] else '', axis=1)\n",
    "collection_df['rarity.calculated_at'] = collection_df.apply(lambda row: pd.to_datetime(row['rarity'].get('calculated_at')) if 'rarity' in row and row['rarity'] else pd.NaT, axis=1)\n",
    "collection_df['rarity.max_rank'] = collection_df.apply(lambda row: row['rarity'].get('max_rank') if 'rarity' in row and row['rarity'] else 0, axis=1)\n",
    "collection_df['rarity.total_supply'] = collection_df.apply(lambda row: row['rarity'].get('total_supply') if 'rarity' in row and row['rarity'] else 0, axis=1)\n",
    "\n"
   ],
   "metadata": {
    "collapsed": false,
    "ExecuteTime": {
     "end_time": "2024-03-11T22:46:24.570489Z",
     "start_time": "2024-03-11T22:46:24.554776Z"
    }
   },
   "id": "39ce1bcd8f010688",
   "execution_count": 646
  },
  {
   "cell_type": "code",
   "outputs": [
    {
     "name": "stdout",
     "output_type": "stream",
     "text": [
      "0    0\n",
      "Name: rarity.total_supply, dtype: int64\n"
     ]
    }
   ],
   "source": [
    "print(collection_df['rarity.total_supply'])"
   ],
   "metadata": {
    "collapsed": false,
    "ExecuteTime": {
     "end_time": "2024-03-11T22:46:25.255891Z",
     "start_time": "2024-03-11T22:46:25.250497Z"
    }
   },
   "id": "34b522883413352a",
   "execution_count": 647
  },
  {
   "cell_type": "code",
   "outputs": [
    {
     "name": "stdout",
     "output_type": "stream",
     "text": [
      "Index(['categories.Hat', 'categories.Eyes', 'categories.Background',\n",
      "       'categories.Fur', 'categories.Clothes', 'categories.Mouth',\n",
      "       'categories.Earring', 'counts.Hat', 'counts.Eyes', 'counts.Background',\n",
      "       'counts.Fur', 'counts.Clothes', 'counts.Mouth', 'counts.Earring'],\n",
      "      dtype='object')\n"
     ]
    }
   ],
   "source": [
    "print(traits_df.columns)"
   ],
   "metadata": {
    "collapsed": false,
    "ExecuteTime": {
     "end_time": "2024-03-11T22:46:26.039709Z",
     "start_time": "2024-03-11T22:46:26.032646Z"
    }
   },
   "id": "b82ff161741d2bf7",
   "execution_count": 648
  },
  {
   "cell_type": "code",
   "outputs": [],
   "source": [
    "def expand_trait_counts(column_name):\n",
    "    # Extract and expand the dictionary into a DataFrame\n",
    "    expanded_traits = traits_df[column_name].apply(pd.Series).fillna(0)\n",
    "    \n",
    "    # Rename the new columns to reflect the trait they represent\n",
    "    expanded_traits.columns = [f\"{column_name}_{trait}\" for trait in expanded_traits.columns]\n",
    "    \n",
    "    return expanded_traits\n"
   ],
   "metadata": {
    "collapsed": false,
    "ExecuteTime": {
     "end_time": "2024-03-11T22:46:26.755788Z",
     "start_time": "2024-03-11T22:46:26.716475Z"
    }
   },
   "id": "e0d8c86903cdeccd",
   "execution_count": 649
  },
  {
   "cell_type": "code",
   "outputs": [],
   "source": [
    "count_columns = [col for col in traits_df.columns if col.startswith('counts.')]\n",
    "\n",
    "for col in count_columns:\n",
    "    expanded_traits = expand_trait_counts(col)\n",
    "    traits_df = pd.concat([traits_df.drop(columns=[col]), expanded_traits], axis=1)\n"
   ],
   "metadata": {
    "collapsed": false,
    "ExecuteTime": {
     "end_time": "2024-03-11T22:46:32.314537Z",
     "start_time": "2024-03-11T22:46:32.292012Z"
    }
   },
   "id": "4f7e5119bcc92453",
   "execution_count": 650
  },
  {
   "cell_type": "code",
   "outputs": [
    {
     "name": "stdout",
     "output_type": "stream",
     "text": [
      "  categories.Hat categories.Eyes categories.Background categories.Fur  \\\n",
      "0         string          string                string         string   \n",
      "\n",
      "  categories.Clothes categories.Mouth categories.Earring  \\\n",
      "0             string           string             string   \n",
      "\n",
      "   counts.Hat_Commie Hat  counts.Hat_Bayc Flipped Brim  \\\n",
      "0                    304                           231   \n",
      "\n",
      "   counts.Hat_Fisherman's Hat  ...  counts.Mouth_Bored Dagger  \\\n",
      "0                         345  ...                         49   \n",
      "\n",
      "   counts.Mouth_Bored Unshaven Kazoo  counts.Mouth_Bored Unshaven Party horn  \\\n",
      "0                                 61                                      45   \n",
      "\n",
      "   counts.Mouth_Bored Unshaven Pizza  counts.Earring_Silver Hoop  \\\n",
      "0                                 26                         882   \n",
      "\n",
      "   counts.Earring_Gold Stud  counts.Earring_Cross  counts.Earring_Gold Hoop  \\\n",
      "0                       439                   149                       462   \n",
      "\n",
      "   counts.Earring_Silver Stud  counts.Earring_Diamond Stud  \n",
      "0                         823                          222  \n",
      "\n",
      "[1 rows x 175 columns]\n"
     ]
    }
   ],
   "source": [
    "print(traits_df)"
   ],
   "metadata": {
    "collapsed": false,
    "ExecuteTime": {
     "end_time": "2024-03-11T22:46:33.047752Z",
     "start_time": "2024-03-11T22:46:33.044442Z"
    }
   },
   "id": "c11620d593720b9e",
   "execution_count": 651
  },
  {
   "cell_type": "code",
   "outputs": [
    {
     "name": "stdout",
     "output_type": "stream",
     "text": [
      "  categories.Hat categories.Eyes categories.Background categories.Fur  \\\n",
      "0         string          string                string         string   \n",
      "\n",
      "  categories.Clothes categories.Mouth categories.Earring  \\\n",
      "0             string           string             string   \n",
      "\n",
      "   counts.Hat_Commie Hat  counts.Hat_Bayc Flipped Brim  \\\n",
      "0                    304                           231   \n",
      "\n",
      "   counts.Hat_Fisherman's Hat  ...  counts.Mouth_Bored Dagger  \\\n",
      "0                         345  ...                         49   \n",
      "\n",
      "   counts.Mouth_Bored Unshaven Kazoo  counts.Mouth_Bored Unshaven Party horn  \\\n",
      "0                                 61                                      45   \n",
      "\n",
      "   counts.Mouth_Bored Unshaven Pizza  counts.Earring_Silver Hoop  \\\n",
      "0                                 26                         882   \n",
      "\n",
      "   counts.Earring_Gold Stud  counts.Earring_Cross  counts.Earring_Gold Hoop  \\\n",
      "0                       439                   149                       462   \n",
      "\n",
      "   counts.Earring_Silver Stud  counts.Earring_Diamond Stud  \n",
      "0                         823                          222  \n",
      "\n",
      "[1 rows x 175 columns]\n"
     ]
    }
   ],
   "source": [
    "# Convert all newly created columns (or the entire DataFrame) to the appropriate types\n",
    "traits_df = traits_df.astype({col: 'int' for col in traits_df.columns if col.startswith('counts.')})\n",
    "\n",
    "# Verify the structure and contents of the updated DataFrame\n",
    "print(traits_df.head())\n"
   ],
   "metadata": {
    "collapsed": false,
    "ExecuteTime": {
     "end_time": "2024-03-11T22:46:33.804855Z",
     "start_time": "2024-03-11T22:46:33.793494Z"
    }
   },
   "id": "83a5c6d7f2631c3f",
   "execution_count": 652
  },
  {
   "cell_type": "code",
   "outputs": [
    {
     "name": "stdout",
     "output_type": "stream",
     "text": [
      "Index(['event_type', 'order_hash', 'chain', 'protocol_address', 'closing_date',\n",
      "       'quantity', 'seller', 'buyer', 'transaction', 'event_timestamp',\n",
      "       'nft.identifier', 'nft.collection', 'nft.contract',\n",
      "       'nft.token_standard', 'nft.name', 'nft.description', 'nft.image_url',\n",
      "       'nft.metadata_url', 'nft.opensea_url', 'nft.updated_at',\n",
      "       'nft.is_disabled', 'nft.is_nsfw', 'payment.quantity',\n",
      "       'payment.token_address', 'payment.decimals', 'payment.symbol'],\n",
      "      dtype='object')\n"
     ]
    }
   ],
   "source": [
    "print(events_df.columns)\n"
   ],
   "metadata": {
    "collapsed": false,
    "ExecuteTime": {
     "end_time": "2024-03-11T22:46:34.421954Z",
     "start_time": "2024-03-11T22:46:34.406698Z"
    }
   },
   "id": "d05141fa0af96ee3",
   "execution_count": 653
  },
  {
   "cell_type": "code",
   "outputs": [],
   "source": [
    "# Convert 'event_timestamp' and 'closing_date' to datetime format\n",
    "events_df['event_timestamp'] = pd.to_datetime(events_df['event_timestamp'], unit='s')  # Assuming timestamp is in seconds\n",
    "events_df['closing_date'] = pd.to_datetime(events_df['closing_date'], unit='s')  # Adjust unit based on the actual data\n",
    "\n",
    "events_df.drop(['description', 'seller', 'buyer'], axis=1, inplace=True, errors='ignore')\n",
    "\n",
    "# Ensure 'quantity' is treated as numeric\n",
    "events_df['quantity'] = pd.to_numeric(events_df['quantity'], errors='coerce').fillna(0)\n"
   ],
   "metadata": {
    "collapsed": false,
    "ExecuteTime": {
     "end_time": "2024-03-11T22:46:36.615027Z",
     "start_time": "2024-03-11T22:46:36.610054Z"
    }
   },
   "id": "55b46fdf04a00516",
   "execution_count": 654
  },
  {
   "cell_type": "code",
   "outputs": [],
   "source": [
    "def expand_nft_events(events_df, nested_column_name):\n",
    "    # Extract and expand the dictionary into a DataFrame\n",
    "    expanded_nft_events = events_df[nested_column_name].apply(pd.Series).fillna(0)\n",
    "    \n",
    "    # events_df = events_df.drop(columns=[nested_column_name])\n",
    "    \n",
    "    # Rename the new columns to reflect the trait they represent\n",
    "    # expanded_nft_events.columns = [f\"{column_name}_{info}\" for info in expanded_nft_events.columns]\n",
    "    \n",
    "    # return pd.concat([events_df, expanded_nft_events], axis=1)\n",
    "    \n",
    "    events_df = pd.concat([events_df.drop(columns=[nested_column_name]), expanded_nft_events], axis=1)\n",
    "    \n",
    "    return events_df"
   ],
   "metadata": {
    "collapsed": false,
    "ExecuteTime": {
     "end_time": "2024-03-11T23:16:48.821214Z",
     "start_time": "2024-03-11T23:16:48.815684Z"
    }
   },
   "id": "8aeb4ce60e1746a4",
   "execution_count": 675
  },
  {
   "cell_type": "code",
   "outputs": [],
   "source": [
    "# def change_nested_columns(events_df):\n",
    "#     \n",
    "#     for column in events_df.columns:\n",
    "#         if column.startswith('nft'):\n",
    "#             new_name = 'new_' + column.split('.')[1]  # Assuming you want to add ‘new_’ prefix\n",
    "#             events_df.rename(columns={column: new_name}, inplace=True)"
   ],
   "metadata": {
    "collapsed": false,
    "ExecuteTime": {
     "end_time": "2024-03-11T23:16:49.320829Z",
     "start_time": "2024-03-11T23:16:49.312623Z"
    }
   },
   "id": "641e032d6db0170f",
   "execution_count": 676
  },
  {
   "cell_type": "code",
   "outputs": [
    {
     "ename": "AttributeError",
     "evalue": "'int' object has no attribute 'startswith'",
     "output_type": "error",
     "traceback": [
      "\u001B[0;31m---------------------------------------------------------------------------\u001B[0m",
      "\u001B[0;31mAttributeError\u001B[0m                            Traceback (most recent call last)",
      "Cell \u001B[0;32mIn[677], line 1\u001B[0m\n\u001B[0;32m----> 1\u001B[0m nft_event_columns \u001B[38;5;241m=\u001B[39m \u001B[43m[\u001B[49m\u001B[43mcol\u001B[49m\u001B[43m \u001B[49m\u001B[38;5;28;43;01mfor\u001B[39;49;00m\u001B[43m \u001B[49m\u001B[43mcol\u001B[49m\u001B[43m \u001B[49m\u001B[38;5;129;43;01min\u001B[39;49;00m\u001B[43m \u001B[49m\u001B[43mevents_df\u001B[49m\u001B[38;5;241;43m.\u001B[39;49m\u001B[43mcolumns\u001B[49m\u001B[43m \u001B[49m\u001B[38;5;28;43;01mif\u001B[39;49;00m\u001B[43m \u001B[49m\u001B[43mcol\u001B[49m\u001B[38;5;241;43m.\u001B[39;49m\u001B[43mstartswith\u001B[49m\u001B[43m(\u001B[49m\u001B[38;5;124;43m'\u001B[39;49m\u001B[38;5;124;43mnft.\u001B[39;49m\u001B[38;5;124;43m'\u001B[39;49m\u001B[43m)\u001B[49m\u001B[43m]\u001B[49m\n\u001B[1;32m      3\u001B[0m \u001B[38;5;28mprint\u001B[39m(nft_event_columns)\n",
      "Cell \u001B[0;32mIn[677], line 1\u001B[0m, in \u001B[0;36m<listcomp>\u001B[0;34m(.0)\u001B[0m\n\u001B[0;32m----> 1\u001B[0m nft_event_columns \u001B[38;5;241m=\u001B[39m [col \u001B[38;5;28;01mfor\u001B[39;00m col \u001B[38;5;129;01min\u001B[39;00m events_df\u001B[38;5;241m.\u001B[39mcolumns \u001B[38;5;28;01mif\u001B[39;00m \u001B[43mcol\u001B[49m\u001B[38;5;241;43m.\u001B[39;49m\u001B[43mstartswith\u001B[49m(\u001B[38;5;124m'\u001B[39m\u001B[38;5;124mnft.\u001B[39m\u001B[38;5;124m'\u001B[39m)]\n\u001B[1;32m      3\u001B[0m \u001B[38;5;28mprint\u001B[39m(nft_event_columns)\n",
      "\u001B[0;31mAttributeError\u001B[0m: 'int' object has no attribute 'startswith'"
     ]
    }
   ],
   "source": [
    "nft_event_columns = [col for col in events_df.columns if col.startswith('nft.')]\n",
    "\n",
    "print(nft_event_columns)\n",
    "\n"
   ],
   "metadata": {
    "collapsed": false,
    "ExecuteTime": {
     "end_time": "2024-03-11T23:16:49.995845Z",
     "start_time": "2024-03-11T23:16:49.975774Z"
    }
   },
   "id": "2652a360bb59617f",
   "execution_count": 677
  },
  {
   "cell_type": "code",
   "outputs": [
    {
     "ename": "KeyError",
     "evalue": "'nft'",
     "output_type": "error",
     "traceback": [
      "\u001B[0;31m---------------------------------------------------------------------------\u001B[0m",
      "\u001B[0;31mKeyError\u001B[0m                                  Traceback (most recent call last)",
      "File \u001B[0;32m~/miniconda3/lib/python3.11/site-packages/pandas/core/indexes/base.py:3791\u001B[0m, in \u001B[0;36mIndex.get_loc\u001B[0;34m(self, key)\u001B[0m\n\u001B[1;32m   3790\u001B[0m \u001B[38;5;28;01mtry\u001B[39;00m:\n\u001B[0;32m-> 3791\u001B[0m     \u001B[38;5;28;01mreturn\u001B[39;00m \u001B[38;5;28;43mself\u001B[39;49m\u001B[38;5;241;43m.\u001B[39;49m\u001B[43m_engine\u001B[49m\u001B[38;5;241;43m.\u001B[39;49m\u001B[43mget_loc\u001B[49m\u001B[43m(\u001B[49m\u001B[43mcasted_key\u001B[49m\u001B[43m)\u001B[49m\n\u001B[1;32m   3792\u001B[0m \u001B[38;5;28;01mexcept\u001B[39;00m \u001B[38;5;167;01mKeyError\u001B[39;00m \u001B[38;5;28;01mas\u001B[39;00m err:\n",
      "File \u001B[0;32mindex.pyx:152\u001B[0m, in \u001B[0;36mpandas._libs.index.IndexEngine.get_loc\u001B[0;34m()\u001B[0m\n",
      "File \u001B[0;32mindex.pyx:181\u001B[0m, in \u001B[0;36mpandas._libs.index.IndexEngine.get_loc\u001B[0;34m()\u001B[0m\n",
      "File \u001B[0;32mpandas/_libs/hashtable_class_helper.pxi:7080\u001B[0m, in \u001B[0;36mpandas._libs.hashtable.PyObjectHashTable.get_item\u001B[0;34m()\u001B[0m\n",
      "File \u001B[0;32mpandas/_libs/hashtable_class_helper.pxi:7088\u001B[0m, in \u001B[0;36mpandas._libs.hashtable.PyObjectHashTable.get_item\u001B[0;34m()\u001B[0m\n",
      "\u001B[0;31mKeyError\u001B[0m: 'nft'",
      "\nThe above exception was the direct cause of the following exception:\n",
      "\u001B[0;31mKeyError\u001B[0m                                  Traceback (most recent call last)",
      "Cell \u001B[0;32mIn[678], line 1\u001B[0m\n\u001B[0;32m----> 1\u001B[0m events_df \u001B[38;5;241m=\u001B[39m \u001B[43mexpand_nft_events\u001B[49m\u001B[43m(\u001B[49m\u001B[43mevents_df\u001B[49m\u001B[43m,\u001B[49m\u001B[43m \u001B[49m\u001B[38;5;124;43m'\u001B[39;49m\u001B[38;5;124;43mnft\u001B[39;49m\u001B[38;5;124;43m'\u001B[39;49m\u001B[43m)\u001B[49m\n",
      "Cell \u001B[0;32mIn[675], line 3\u001B[0m, in \u001B[0;36mexpand_nft_events\u001B[0;34m(events_df, nested_column_name)\u001B[0m\n\u001B[1;32m      1\u001B[0m \u001B[38;5;28;01mdef\u001B[39;00m \u001B[38;5;21mexpand_nft_events\u001B[39m(events_df, nested_column_name):\n\u001B[1;32m      2\u001B[0m     \u001B[38;5;66;03m# Extract and expand the dictionary into a DataFrame\u001B[39;00m\n\u001B[0;32m----> 3\u001B[0m     expanded_nft_events \u001B[38;5;241m=\u001B[39m \u001B[43mevents_df\u001B[49m\u001B[43m[\u001B[49m\u001B[43mnested_column_name\u001B[49m\u001B[43m]\u001B[49m\u001B[38;5;241m.\u001B[39mapply(pd\u001B[38;5;241m.\u001B[39mSeries)\u001B[38;5;241m.\u001B[39mfillna(\u001B[38;5;241m0\u001B[39m)\n\u001B[1;32m      5\u001B[0m     \u001B[38;5;66;03m# events_df = events_df.drop(columns=[nested_column_name])\u001B[39;00m\n\u001B[1;32m      6\u001B[0m     \n\u001B[1;32m      7\u001B[0m     \u001B[38;5;66;03m# Rename the new columns to reflect the trait they represent\u001B[39;00m\n\u001B[1;32m      8\u001B[0m     \u001B[38;5;66;03m# expanded_nft_events.columns = [f\"{column_name}_{info}\" for info in expanded_nft_events.columns]\u001B[39;00m\n\u001B[1;32m      9\u001B[0m     \n\u001B[1;32m     10\u001B[0m     \u001B[38;5;66;03m# return pd.concat([events_df, expanded_nft_events], axis=1)\u001B[39;00m\n\u001B[1;32m     12\u001B[0m     events_df \u001B[38;5;241m=\u001B[39m pd\u001B[38;5;241m.\u001B[39mconcat([events_df\u001B[38;5;241m.\u001B[39mdrop(columns\u001B[38;5;241m=\u001B[39m[nested_column_name]), expanded_nft_events], axis\u001B[38;5;241m=\u001B[39m\u001B[38;5;241m1\u001B[39m)\n",
      "File \u001B[0;32m~/miniconda3/lib/python3.11/site-packages/pandas/core/frame.py:3893\u001B[0m, in \u001B[0;36mDataFrame.__getitem__\u001B[0;34m(self, key)\u001B[0m\n\u001B[1;32m   3891\u001B[0m \u001B[38;5;28;01mif\u001B[39;00m \u001B[38;5;28mself\u001B[39m\u001B[38;5;241m.\u001B[39mcolumns\u001B[38;5;241m.\u001B[39mnlevels \u001B[38;5;241m>\u001B[39m \u001B[38;5;241m1\u001B[39m:\n\u001B[1;32m   3892\u001B[0m     \u001B[38;5;28;01mreturn\u001B[39;00m \u001B[38;5;28mself\u001B[39m\u001B[38;5;241m.\u001B[39m_getitem_multilevel(key)\n\u001B[0;32m-> 3893\u001B[0m indexer \u001B[38;5;241m=\u001B[39m \u001B[38;5;28;43mself\u001B[39;49m\u001B[38;5;241;43m.\u001B[39;49m\u001B[43mcolumns\u001B[49m\u001B[38;5;241;43m.\u001B[39;49m\u001B[43mget_loc\u001B[49m\u001B[43m(\u001B[49m\u001B[43mkey\u001B[49m\u001B[43m)\u001B[49m\n\u001B[1;32m   3894\u001B[0m \u001B[38;5;28;01mif\u001B[39;00m is_integer(indexer):\n\u001B[1;32m   3895\u001B[0m     indexer \u001B[38;5;241m=\u001B[39m [indexer]\n",
      "File \u001B[0;32m~/miniconda3/lib/python3.11/site-packages/pandas/core/indexes/base.py:3798\u001B[0m, in \u001B[0;36mIndex.get_loc\u001B[0;34m(self, key)\u001B[0m\n\u001B[1;32m   3793\u001B[0m     \u001B[38;5;28;01mif\u001B[39;00m \u001B[38;5;28misinstance\u001B[39m(casted_key, \u001B[38;5;28mslice\u001B[39m) \u001B[38;5;129;01mor\u001B[39;00m (\n\u001B[1;32m   3794\u001B[0m         \u001B[38;5;28misinstance\u001B[39m(casted_key, abc\u001B[38;5;241m.\u001B[39mIterable)\n\u001B[1;32m   3795\u001B[0m         \u001B[38;5;129;01mand\u001B[39;00m \u001B[38;5;28many\u001B[39m(\u001B[38;5;28misinstance\u001B[39m(x, \u001B[38;5;28mslice\u001B[39m) \u001B[38;5;28;01mfor\u001B[39;00m x \u001B[38;5;129;01min\u001B[39;00m casted_key)\n\u001B[1;32m   3796\u001B[0m     ):\n\u001B[1;32m   3797\u001B[0m         \u001B[38;5;28;01mraise\u001B[39;00m InvalidIndexError(key)\n\u001B[0;32m-> 3798\u001B[0m     \u001B[38;5;28;01mraise\u001B[39;00m \u001B[38;5;167;01mKeyError\u001B[39;00m(key) \u001B[38;5;28;01mfrom\u001B[39;00m \u001B[38;5;21;01merr\u001B[39;00m\n\u001B[1;32m   3799\u001B[0m \u001B[38;5;28;01mexcept\u001B[39;00m \u001B[38;5;167;01mTypeError\u001B[39;00m:\n\u001B[1;32m   3800\u001B[0m     \u001B[38;5;66;03m# If we have a listlike key, _check_indexing_error will raise\u001B[39;00m\n\u001B[1;32m   3801\u001B[0m     \u001B[38;5;66;03m#  InvalidIndexError. Otherwise we fall through and re-raise\u001B[39;00m\n\u001B[1;32m   3802\u001B[0m     \u001B[38;5;66;03m#  the TypeError.\u001B[39;00m\n\u001B[1;32m   3803\u001B[0m     \u001B[38;5;28mself\u001B[39m\u001B[38;5;241m.\u001B[39m_check_indexing_error(key)\n",
      "\u001B[0;31mKeyError\u001B[0m: 'nft'"
     ]
    }
   ],
   "source": [
    "events_df = expand_nft_events(events_df, 'nft')"
   ],
   "metadata": {
    "collapsed": false,
    "ExecuteTime": {
     "end_time": "2024-03-11T23:17:12.401789Z",
     "start_time": "2024-03-11T23:17:12.371435Z"
    }
   },
   "id": "53c6a21ad1dfb4a5",
   "execution_count": 678
  },
  {
   "cell_type": "code",
   "outputs": [
    {
     "ename": "KeyError",
     "evalue": "'nft'",
     "output_type": "error",
     "traceback": [
      "\u001B[0;31m---------------------------------------------------------------------------\u001B[0m",
      "\u001B[0;31mKeyError\u001B[0m                                  Traceback (most recent call last)",
      "File \u001B[0;32m~/miniconda3/lib/python3.11/site-packages/pandas/core/indexes/base.py:3791\u001B[0m, in \u001B[0;36mIndex.get_loc\u001B[0;34m(self, key)\u001B[0m\n\u001B[1;32m   3790\u001B[0m \u001B[38;5;28;01mtry\u001B[39;00m:\n\u001B[0;32m-> 3791\u001B[0m     \u001B[38;5;28;01mreturn\u001B[39;00m \u001B[38;5;28;43mself\u001B[39;49m\u001B[38;5;241;43m.\u001B[39;49m\u001B[43m_engine\u001B[49m\u001B[38;5;241;43m.\u001B[39;49m\u001B[43mget_loc\u001B[49m\u001B[43m(\u001B[49m\u001B[43mcasted_key\u001B[49m\u001B[43m)\u001B[49m\n\u001B[1;32m   3792\u001B[0m \u001B[38;5;28;01mexcept\u001B[39;00m \u001B[38;5;167;01mKeyError\u001B[39;00m \u001B[38;5;28;01mas\u001B[39;00m err:\n",
      "File \u001B[0;32mindex.pyx:152\u001B[0m, in \u001B[0;36mpandas._libs.index.IndexEngine.get_loc\u001B[0;34m()\u001B[0m\n",
      "File \u001B[0;32mindex.pyx:181\u001B[0m, in \u001B[0;36mpandas._libs.index.IndexEngine.get_loc\u001B[0;34m()\u001B[0m\n",
      "File \u001B[0;32mpandas/_libs/hashtable_class_helper.pxi:7080\u001B[0m, in \u001B[0;36mpandas._libs.hashtable.PyObjectHashTable.get_item\u001B[0;34m()\u001B[0m\n",
      "File \u001B[0;32mpandas/_libs/hashtable_class_helper.pxi:7088\u001B[0m, in \u001B[0;36mpandas._libs.hashtable.PyObjectHashTable.get_item\u001B[0;34m()\u001B[0m\n",
      "\u001B[0;31mKeyError\u001B[0m: 'nft'",
      "\nThe above exception was the direct cause of the following exception:\n",
      "\u001B[0;31mKeyError\u001B[0m                                  Traceback (most recent call last)",
      "Cell \u001B[0;32mIn[580], line 3\u001B[0m\n\u001B[1;32m      1\u001B[0m \u001B[38;5;66;03m# Example of expanding the 'nft' nested fields into separate columns\u001B[39;00m\n\u001B[1;32m      2\u001B[0m \u001B[38;5;28;01mfor\u001B[39;00m nft_field \u001B[38;5;129;01min\u001B[39;00m [\u001B[38;5;124m'\u001B[39m\u001B[38;5;124midentifier\u001B[39m\u001B[38;5;124m'\u001B[39m, \u001B[38;5;124m'\u001B[39m\u001B[38;5;124mcollection\u001B[39m\u001B[38;5;124m'\u001B[39m, \u001B[38;5;124m'\u001B[39m\u001B[38;5;124mcontract\u001B[39m\u001B[38;5;124m'\u001B[39m, \u001B[38;5;124m'\u001B[39m\u001B[38;5;124mtoken_standard\u001B[39m\u001B[38;5;124m'\u001B[39m, \u001B[38;5;124m'\u001B[39m\u001B[38;5;124mname\u001B[39m\u001B[38;5;124m'\u001B[39m, \u001B[38;5;124m'\u001B[39m\u001B[38;5;124mdescription\u001B[39m\u001B[38;5;124m'\u001B[39m, \u001B[38;5;124m'\u001B[39m\u001B[38;5;124mimage_url\u001B[39m\u001B[38;5;124m'\u001B[39m, \u001B[38;5;124m'\u001B[39m\u001B[38;5;124mmetadata_url\u001B[39m\u001B[38;5;124m'\u001B[39m, \u001B[38;5;124m'\u001B[39m\u001B[38;5;124mopensea_url\u001B[39m\u001B[38;5;124m'\u001B[39m, \u001B[38;5;124m'\u001B[39m\u001B[38;5;124mupdated_at\u001B[39m\u001B[38;5;124m'\u001B[39m, \u001B[38;5;124m'\u001B[39m\u001B[38;5;124mis_disabled\u001B[39m\u001B[38;5;124m'\u001B[39m, \u001B[38;5;124m'\u001B[39m\u001B[38;5;124mis_nsfw\u001B[39m\u001B[38;5;124m'\u001B[39m]:\n\u001B[0;32m----> 3\u001B[0m     events_df[\u001B[38;5;124mf\u001B[39m\u001B[38;5;124m'\u001B[39m\u001B[38;5;124mnft.\u001B[39m\u001B[38;5;132;01m{\u001B[39;00mnft_field\u001B[38;5;132;01m}\u001B[39;00m\u001B[38;5;124m'\u001B[39m] \u001B[38;5;241m=\u001B[39m \u001B[43mevents_df\u001B[49m\u001B[43m[\u001B[49m\u001B[38;5;124;43m'\u001B[39;49m\u001B[38;5;124;43mnft\u001B[39;49m\u001B[38;5;124;43m'\u001B[39;49m\u001B[43m]\u001B[49m\u001B[38;5;241m.\u001B[39mapply(\u001B[38;5;28;01mlambda\u001B[39;00m x: x\u001B[38;5;241m.\u001B[39mget(nft_field, \u001B[38;5;124m'\u001B[39m\u001B[38;5;124m'\u001B[39m))\n\u001B[1;32m      5\u001B[0m \u001B[38;5;66;03m# Similar expansion for 'payment' nested fields\u001B[39;00m\n\u001B[1;32m      6\u001B[0m \u001B[38;5;28;01mfor\u001B[39;00m payment_field \u001B[38;5;129;01min\u001B[39;00m [\u001B[38;5;124m'\u001B[39m\u001B[38;5;124mquantity\u001B[39m\u001B[38;5;124m'\u001B[39m, \u001B[38;5;124m'\u001B[39m\u001B[38;5;124mtoken_address\u001B[39m\u001B[38;5;124m'\u001B[39m, \u001B[38;5;124m'\u001B[39m\u001B[38;5;124mdecimals\u001B[39m\u001B[38;5;124m'\u001B[39m, \u001B[38;5;124m'\u001B[39m\u001B[38;5;124msymbol\u001B[39m\u001B[38;5;124m'\u001B[39m]:\n",
      "File \u001B[0;32m~/miniconda3/lib/python3.11/site-packages/pandas/core/frame.py:3893\u001B[0m, in \u001B[0;36mDataFrame.__getitem__\u001B[0;34m(self, key)\u001B[0m\n\u001B[1;32m   3891\u001B[0m \u001B[38;5;28;01mif\u001B[39;00m \u001B[38;5;28mself\u001B[39m\u001B[38;5;241m.\u001B[39mcolumns\u001B[38;5;241m.\u001B[39mnlevels \u001B[38;5;241m>\u001B[39m \u001B[38;5;241m1\u001B[39m:\n\u001B[1;32m   3892\u001B[0m     \u001B[38;5;28;01mreturn\u001B[39;00m \u001B[38;5;28mself\u001B[39m\u001B[38;5;241m.\u001B[39m_getitem_multilevel(key)\n\u001B[0;32m-> 3893\u001B[0m indexer \u001B[38;5;241m=\u001B[39m \u001B[38;5;28;43mself\u001B[39;49m\u001B[38;5;241;43m.\u001B[39;49m\u001B[43mcolumns\u001B[49m\u001B[38;5;241;43m.\u001B[39;49m\u001B[43mget_loc\u001B[49m\u001B[43m(\u001B[49m\u001B[43mkey\u001B[49m\u001B[43m)\u001B[49m\n\u001B[1;32m   3894\u001B[0m \u001B[38;5;28;01mif\u001B[39;00m is_integer(indexer):\n\u001B[1;32m   3895\u001B[0m     indexer \u001B[38;5;241m=\u001B[39m [indexer]\n",
      "File \u001B[0;32m~/miniconda3/lib/python3.11/site-packages/pandas/core/indexes/base.py:3798\u001B[0m, in \u001B[0;36mIndex.get_loc\u001B[0;34m(self, key)\u001B[0m\n\u001B[1;32m   3793\u001B[0m     \u001B[38;5;28;01mif\u001B[39;00m \u001B[38;5;28misinstance\u001B[39m(casted_key, \u001B[38;5;28mslice\u001B[39m) \u001B[38;5;129;01mor\u001B[39;00m (\n\u001B[1;32m   3794\u001B[0m         \u001B[38;5;28misinstance\u001B[39m(casted_key, abc\u001B[38;5;241m.\u001B[39mIterable)\n\u001B[1;32m   3795\u001B[0m         \u001B[38;5;129;01mand\u001B[39;00m \u001B[38;5;28many\u001B[39m(\u001B[38;5;28misinstance\u001B[39m(x, \u001B[38;5;28mslice\u001B[39m) \u001B[38;5;28;01mfor\u001B[39;00m x \u001B[38;5;129;01min\u001B[39;00m casted_key)\n\u001B[1;32m   3796\u001B[0m     ):\n\u001B[1;32m   3797\u001B[0m         \u001B[38;5;28;01mraise\u001B[39;00m InvalidIndexError(key)\n\u001B[0;32m-> 3798\u001B[0m     \u001B[38;5;28;01mraise\u001B[39;00m \u001B[38;5;167;01mKeyError\u001B[39;00m(key) \u001B[38;5;28;01mfrom\u001B[39;00m \u001B[38;5;21;01merr\u001B[39;00m\n\u001B[1;32m   3799\u001B[0m \u001B[38;5;28;01mexcept\u001B[39;00m \u001B[38;5;167;01mTypeError\u001B[39;00m:\n\u001B[1;32m   3800\u001B[0m     \u001B[38;5;66;03m# If we have a listlike key, _check_indexing_error will raise\u001B[39;00m\n\u001B[1;32m   3801\u001B[0m     \u001B[38;5;66;03m#  InvalidIndexError. Otherwise we fall through and re-raise\u001B[39;00m\n\u001B[1;32m   3802\u001B[0m     \u001B[38;5;66;03m#  the TypeError.\u001B[39;00m\n\u001B[1;32m   3803\u001B[0m     \u001B[38;5;28mself\u001B[39m\u001B[38;5;241m.\u001B[39m_check_indexing_error(key)\n",
      "\u001B[0;31mKeyError\u001B[0m: 'nft'"
     ]
    }
   ],
   "source": [
    "# Example of expanding the 'nft' nested fields into separate columns\n",
    "for nft_field in ['identifier', 'collection', 'contract', 'token_standard', 'name', 'description', 'image_url', 'metadata_url', 'opensea_url', 'updated_at', 'is_disabled', 'is_nsfw']:\n",
    "    events_df[f'nft.{nft_field}'] = events_df['nft'].apply(lambda x: x.get(nft_field, ''))\n",
    "\n",
    "# Similar expansion for 'payment' nested fields\n",
    "for payment_field in ['quantity', 'token_address', 'decimals', 'symbol']:\n",
    "    events_df[f'payment.{payment_field}'] = events_df['payment'].apply(lambda x: x.get(payment_field, ''))\n"
   ],
   "metadata": {
    "collapsed": false,
    "ExecuteTime": {
     "end_time": "2024-03-11T22:17:52.918600Z",
     "start_time": "2024-03-11T22:17:52.816343Z"
    }
   },
   "id": "dd0f53a7891fcbf4",
   "execution_count": 580
  },
  {
   "cell_type": "code",
   "outputs": [],
   "source": [],
   "metadata": {
    "collapsed": false,
    "ExecuteTime": {
     "start_time": "2024-03-11T22:17:52.855936Z"
    }
   },
   "id": "d63b4f6645313e38"
  }
 ],
 "metadata": {
  "kernelspec": {
   "display_name": "Python 3",
   "language": "python",
   "name": "python3"
  },
  "language_info": {
   "codemirror_mode": {
    "name": "ipython",
    "version": 2
   },
   "file_extension": ".py",
   "mimetype": "text/x-python",
   "name": "python",
   "nbconvert_exporter": "python",
   "pygments_lexer": "ipython2",
   "version": "2.7.6"
  }
 },
 "nbformat": 4,
 "nbformat_minor": 5
}
